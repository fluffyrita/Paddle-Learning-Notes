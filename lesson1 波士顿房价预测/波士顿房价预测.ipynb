{
 "cells": [
  {
   "cell_type": "markdown",
   "metadata": {},
   "source": [
    "# 数据处理\n",
    "数据处理包含五个部分：数据导入、数据形状变换、数据集划分、数据归一化处理和封装load data函数。数据预处理后，才能被模型调用。\n",
    "\n",
    "## 读入数据\n",
    "通过如下代码读入数据，了解下波士顿房价的数据集结构，数据存放在本地目录下housing.data文件中。\n",
    "\n",
    "数据集下载链接：\n",
    "http://paddlemodels.bj.bcebos.com/uci_housing/housing.data"
   ]
  },
  {
   "cell_type": "code",
   "execution_count": 12,
   "metadata": {},
   "outputs": [
    {
     "name": "stdout",
     "output_type": "stream",
     "text": [
      "[6.320e-03 1.800e+01 2.310e+00 ... 3.969e+02 7.880e+00 1.190e+01]\n"
     ]
    }
   ],
   "source": [
    "# 导入需要用到的package\n",
    "import numpy as np\n",
    "import json\n",
    "# 读入训练数据\n",
    "datafile = './work/housing.data'\n",
    "data = np.fromfile(datafile, sep=' ')\n",
    "print(data)"
   ]
  },
  {
   "cell_type": "markdown",
   "metadata": {},
   "source": [
    "## 数据形状变换\n",
    "由于读入的原始数据是1维的，所有数据都连在一起。因此需要我们将数据的形状进行变换，形成一个2维的矩阵，每行为一个数据样本（14个值），每个数据样本包含13个X（影响房价的特征）和一个Y（该类型房屋的均价）。"
   ]
  },
  {
   "cell_type": "code",
   "execution_count": 13,
   "metadata": {},
   "outputs": [
    {
     "name": "stdout",
     "output_type": "stream",
     "text": [
      "(14,)\n",
      "[6.320e-03 1.800e+01 2.310e+00 0.000e+00 5.380e-01 6.575e+00 6.520e+01\n",
      " 4.090e+00 1.000e+00 2.960e+02 1.530e+01 3.969e+02 4.980e+00 2.400e+01]\n"
     ]
    }
   ],
   "source": [
    "# 读入之后的数据被转化成1维array，其中array的第0-13项是第一条数据，第14-27项是第二条数据，以此类推.... \n",
    "# 这里对原始数据做reshape，变成N x 14的形式\n",
    "feature_names = [ 'CRIM', 'ZN', 'INDUS', 'CHAS', 'NOX', 'RM', 'AGE','DIS', \n",
    "                 'RAD', 'TAX', 'PTRATIO', 'B', 'LSTAT', 'MEDV' ]\n",
    "feature_num = len(feature_names)\n",
    "data = data.reshape([data.shape[0] // feature_num, feature_num]) # reshape(列的长度，行的长度)\n",
    "'''\n",
    " / 为浮点数除法，返回浮点结果\n",
    "\n",
    "// 表示整数除法，返回不大于结果的一个最大整数\n",
    "'''\n",
    "\n",
    "# 查看数据\n",
    "x = data[0]\n",
    "print(x.shape)\n",
    "print(x)"
   ]
  },
  {
   "cell_type": "markdown",
   "metadata": {},
   "source": [
    "numpy的 reshape 函数尝试，一维array变换成为多维array"
   ]
  },
  {
   "cell_type": "code",
   "execution_count": 9,
   "metadata": {},
   "outputs": [
    {
     "name": "stdout",
     "output_type": "stream",
     "text": [
      "[[1 2 3]\n",
      " [4 5 6]]\n"
     ]
    }
   ],
   "source": [
    "# 经过实验尝试，reshape(x, y)     x*y必须刚好满足之前一维的总数，多和少都不行\n",
    "a = [1,2,3,4,5,6]\n",
    "a_arr = np.array(a)\n",
    "a_re = a_arr.reshape(2, 3)\n",
    "print(a_re)"
   ]
  },
  {
   "cell_type": "markdown",
   "metadata": {},
   "source": [
    "## 数据集划分\n",
    "在本案例中，我们将80%的数据用作训练集，20%用作测试集，实现代码如下。通过打印训练集的形状，可以发现共有404个样本，每个样本含有13个特征和1个预测值。"
   ]
  },
  {
   "cell_type": "code",
   "execution_count": 14,
   "metadata": {},
   "outputs": [
    {
     "name": "stdout",
     "output_type": "stream",
     "text": [
      "(404, 14)\n"
     ]
    }
   ],
   "source": [
    "ratio = 0.8 # 划分训练集的比例\n",
    "offset = int(data.shape[0] * ratio)\n",
    "training_data = data[:offset]\n",
    "\n",
    "print(training_data.shape)"
   ]
  },
  {
   "cell_type": "markdown",
   "metadata": {},
   "source": [
    "## 数据归一化处理\n",
    "对每个特征进行归一化处理，使得每个特征的取值缩放到0~1之间。这样做有两个好处：一是模型训练更高效；二是特征前的权重大小可以代表该变量对预测结果的贡献度（因为每个特征值本身的范围相同）。"
   ]
  },
  {
   "cell_type": "code",
   "execution_count": 15,
   "metadata": {},
   "outputs": [],
   "source": [
    "# 计算train数据集的最大值，最小值，平均值\n",
    "maximums, minimums, avgs = \\\n",
    "                     training_data.max(axis=0), \\\n",
    "                     training_data.min(axis=0), \\\n",
    "     training_data.sum(axis=0) / training_data.shape[0]\n",
    "\n",
    "# 对数据进行归一化处理\n",
    "for i in range(feature_num):\n",
    "    #print(maximums[i], minimums[i], avgs[i])\n",
    "    data[:, i] = (data[:, i] - minimums[i]) / (maximums[i] - minimums[i])"
   ]
  },
  {
   "cell_type": "markdown",
   "metadata": {},
   "source": [
    "归一化处理的尝试"
   ]
  },
  {
   "cell_type": "code",
   "execution_count": 23,
   "metadata": {},
   "outputs": [
    {
     "name": "stdout",
     "output_type": "stream",
     "text": [
      "[ 40  10 320]\n",
      "[10  2 60]\n",
      "[0.02146321 0.14232673 0.35896494 0.08663366 0.30191755 0.5311571\n",
      " 0.63365062 0.27686108 0.25172191 0.34636929 0.57725932 0.9480888\n",
      " 0.26558914 0.42612761]\n",
      "[[0 0 1]\n",
      " [1 1 0]]\n"
     ]
    }
   ],
   "source": [
    "a = [10,2,320,40,10,60]\n",
    "a_arr = np.array(a)\n",
    "a_re = a_arr.reshape(2, 3)\n",
    "\n",
    "\n",
    "# 当axis=0时表示取每一列的最大值\n",
    "# 当axis=1时表示取每一行的最大值\n",
    "maximums, minimums, avgs = \\\n",
    "                     a_re.max(axis=0), \\\n",
    "                     a_re.min(axis=0), \\\n",
    "     training_data.sum(axis=0) / training_data.shape[0]\n",
    "\n",
    "print(maximums)\n",
    "print(minimums)\n",
    "print(avgs)\n",
    "\n",
    "for i in range(3):\n",
    "    #print(maximums[i], minimums[i], avgs[i])\n",
    "    a_re[:, i] = (a_re[:, i] - minimums[i]) / (maximums[i] - minimums[i])  # 所有行的第i列都在计算归一化之后的值\n",
    "    \n",
    "print(a_re)"
   ]
  },
  {
   "cell_type": "markdown",
   "metadata": {},
   "source": [
    "## 封装成load data函数\n",
    "将上述几个数据处理操作封装成load data函数，以便下一步模型的调用，实现方法如下。"
   ]
  },
  {
   "cell_type": "code",
   "execution_count": 24,
   "metadata": {},
   "outputs": [],
   "source": [
    "def load_data():\n",
    "    # 从文件导入数据\n",
    "    datafile = './work/housing.data'\n",
    "    data = np.fromfile(datafile, sep=' ')\n",
    "\n",
    "    # 每条数据包括14项，其中前面13项是影响因素，第14项是相应的房屋价格中位数\n",
    "    feature_names = [ 'CRIM', 'ZN', 'INDUS', 'CHAS', 'NOX', 'RM', 'AGE', \\\n",
    "                      'DIS', 'RAD', 'TAX', 'PTRATIO', 'B', 'LSTAT', 'MEDV' ]\n",
    "    feature_num = len(feature_names)\n",
    "\n",
    "    # 将原始数据进行Reshape，变成[N, 14]这样的形状\n",
    "    data = data.reshape([data.shape[0] // feature_num, feature_num])\n",
    "\n",
    "    # 将原数据集拆分成训练集和测试集\n",
    "    # 这里使用80%的数据做训练，20%的数据做测试\n",
    "    # 测试集和训练集必须是没有交集的\n",
    "    ratio = 0.8\n",
    "    offset = int(data.shape[0] * ratio)\n",
    "    training_data = data[:offset]\n",
    "\n",
    "    # 计算训练集的最大值，最小值，平均值\n",
    "    maximums, minimums, avgs = training_data.max(axis=0), training_data.min(axis=0), \\\n",
    "                                 training_data.sum(axis=0) / training_data.shape[0]\n",
    "\n",
    "    # 对数据进行归一化处理\n",
    "    for i in range(feature_num):\n",
    "        #print(maximums[i], minimums[i], avgs[i])\n",
    "        data[:, i] = (data[:, i] - minimums[i]) / (maximums[i] - minimums[i])\n",
    "\n",
    "    # 训练集和测试集的划分比例\n",
    "    training_data = data[:offset]\n",
    "    test_data = data[offset:]\n",
    "    return training_data, test_data"
   ]
  },
  {
   "cell_type": "code",
   "execution_count": 25,
   "metadata": {},
   "outputs": [
    {
     "name": "stdout",
     "output_type": "stream",
     "text": [
      "[0.         0.18       0.07344184 0.         0.31481481 0.57750527\n",
      " 0.64160659 0.26920314 0.         0.22755741 0.28723404 1.\n",
      " 0.08967991]\n",
      "[0.42222222]\n"
     ]
    }
   ],
   "source": [
    "# 获取数据\n",
    "training_data, test_data = load_data()\n",
    "x = training_data[:, :-1]\n",
    "y = training_data[:, -1:]\n",
    "\n",
    "# 查看数据\n",
    "print(x[0])\n",
    "print(y[0])"
   ]
  },
  {
   "cell_type": "markdown",
   "metadata": {},
   "source": [
    "# 模型设计\n",
    "模型设计是深度学习模型关键要素之一，也称为网络结构设计，相当于模型的假设空间，即实现模型“前向计算”（从输入到输出）的过程。\n",
    "\n",
    "如果将输入特征和输出预测值均以向量表示，输入特征xxx有13个分量，yyy有1个分量，那么参数权重的形状（shape）是13×113\\times113×1。假设我们以如下任意数字赋值参数做初始化："
   ]
  },
  {
   "cell_type": "code",
   "execution_count": 26,
   "metadata": {},
   "outputs": [],
   "source": [
    "w = [0.1, 0.2, 0.3, 0.4, 0.5, 0.6, 0.7, 0.8, -0.1, -0.2, -0.3, -0.4, 0.0]\n",
    "w = np.array(w).reshape([13, 1])"
   ]
  },
  {
   "cell_type": "markdown",
   "metadata": {},
   "source": [
    "取出第1条样本数据，观察样本的特征向量与参数向量相乘的结果。"
   ]
  },
  {
   "cell_type": "code",
   "execution_count": 27,
   "metadata": {},
   "outputs": [
    {
     "name": "stdout",
     "output_type": "stream",
     "text": [
      "[0.69474855]\n"
     ]
    }
   ],
   "source": [
    "x1=x[0]\n",
    "t = np.dot(x1, w)\n",
    "print(t)"
   ]
  },
  {
   "cell_type": "markdown",
   "metadata": {},
   "source": [
    "完整的线性回归公式，还需要初始化偏移量b，同样随意赋初值-0.2。那么，线性回归模型的完整输出是\n",
    "\n",
    "$$z=t+b$$\n",
    "\n",
    "这个从特征和参数计算输出值的过程称为“前向计算”。"
   ]
  },
  {
   "cell_type": "code",
   "execution_count": 28,
   "metadata": {},
   "outputs": [
    {
     "name": "stdout",
     "output_type": "stream",
     "text": [
      "[0.49474855]\n"
     ]
    }
   ],
   "source": [
    "b = -0.2\n",
    "z = t + b\n",
    "print(z)"
   ]
  },
  {
   "cell_type": "markdown",
   "metadata": {},
   "source": [
    "将上述计算预测输出的过程以“类和对象”的方式来描述，类成员变量有参数www和bbb。通过写一个forward函数（代表“前向计算”）完成上述从特征和参数到输出预测值的计算过程，代码如下所示。"
   ]
  },
  {
   "cell_type": "code",
   "execution_count": 29,
   "metadata": {},
   "outputs": [],
   "source": [
    "class Network(object):\n",
    "    def __init__(self, num_of_weights):\n",
    "        # 随机产生w的初始值\n",
    "        # 为了保持程序每次运行结果的一致性，\n",
    "        # 此处设置固定的随机数种子\n",
    "        np.random.seed(0)\n",
    "        self.w = np.random.randn(num_of_weights, 1)\n",
    "        self.b = 0.\n",
    "        \n",
    "    def forward(self, x):\n",
    "        z = np.dot(x, self.w) + self.b\n",
    "        return z"
   ]
  },
  {
   "cell_type": "markdown",
   "metadata": {},
   "source": [
    "基于Network类的定义，模型的计算过程如下所示。"
   ]
  },
  {
   "cell_type": "code",
   "execution_count": 30,
   "metadata": {},
   "outputs": [
    {
     "name": "stdout",
     "output_type": "stream",
     "text": [
      "[2.39362982]\n"
     ]
    }
   ],
   "source": [
    "net = Network(13)\n",
    "x1 = x[0]\n",
    "y1 = y[0]\n",
    "z = net.forward(x1)\n",
    "print(z)"
   ]
  },
  {
   "cell_type": "markdown",
   "metadata": {},
   "source": [
    "# 训练配置\n",
    "模型设计完成后，需要通过训练配置寻找模型的最优值，即通过损失函数来衡量模型的好坏。训练配置也是深度学习模型关键要素之一。\n",
    "\n",
    "通过模型计算$x_1$表示的影响因素所对应的房价应该是$z$, 但实际数据告诉我们房价是$y$。这时我们需要有某种指标来衡量预测值$z$跟真实值$y$之间的差距。对于回归问题，最常采用的衡量方法是使用均方误差作为评价模型好坏的指标，具体定义如下：\n",
    "\n",
    "$$Loss = (y - z)^2$$\n",
    "\n",
    " \n",
    "\n",
    "上式中的$Loss$（简记为: $L$）通常也被称作损失函数，它是衡量模型好坏的指标。在回归问题中，均方误差是一种比较常见的形式，分类问题中通常会采用交叉熵作为损失函数，在后续的章节中会更详细的介绍。对一个样本计算损失函数值的实现如下："
   ]
  },
  {
   "cell_type": "code",
   "execution_count": 31,
   "metadata": {},
   "outputs": [
    {
     "name": "stdout",
     "output_type": "stream",
     "text": [
      "[3.88644793]\n"
     ]
    }
   ],
   "source": [
    "Loss = (y1 - z)*(y1 - z)\n",
    "print(Loss)"
   ]
  },
  {
   "cell_type": "markdown",
   "metadata": {},
   "source": [
    "因为计算损失函数时需要把每个样本的损失函数值都考虑到，所以我们需要对单个样本的损失函数进行求和，并除以样本总数$N$。\n",
    "\n",
    "$$Loss= \\frac{1}{N}\\sum_{i=1}^N{(y_i - z_i)^2}$$\n",
    "\n",
    "\n",
    "在Network类下面添加损失函数的计算过程如下："
   ]
  },
  {
   "cell_type": "code",
   "execution_count": 33,
   "metadata": {},
   "outputs": [],
   "source": [
    "class Network(object):\n",
    "    def __init__(self, num_of_weights):\n",
    "        # 随机产生w的初始值\n",
    "        # 为了保持程序每次运行结果的一致性，此处设置固定的随机数种子\n",
    "        np.random.seed(0)\n",
    "        self.w = np.random.randn(num_of_weights, 1)\n",
    "        self.b = 0.\n",
    "        \n",
    "    def forward(self, x):\n",
    "        z = np.dot(x, self.w) + self.b\n",
    "        return z\n",
    "    \n",
    "    def loss(self, z, y):\n",
    "        error = z - y\n",
    "        cost = error * error\n",
    "        cost = np.mean(cost)\n",
    "        return cost"
   ]
  },
  {
   "cell_type": "markdown",
   "metadata": {},
   "source": [
    "使用定义的Network类，可以方便的计算预测值和损失函数。需要注意的是，类中的变量$x$, $w$，$b$, $z$, $error$等均是向量。以变量$x$为例，共有两个维度，一个代表特征数量（值为13），一个代表样本数量，代码如下所示。"
   ]
  },
  {
   "cell_type": "code",
   "execution_count": 34,
   "metadata": {},
   "outputs": [
    {
     "name": "stdout",
     "output_type": "stream",
     "text": [
      "predict:  [[2.39362982]\n",
      " [2.46752393]\n",
      " [2.02483479]]\n",
      "loss: 3.384496992612791\n"
     ]
    }
   ],
   "source": [
    "net = Network(13)\n",
    "# 此处可以一次性计算多个样本的预测值和损失函数\n",
    "x1 = x[0:3]\n",
    "y1 = y[0:3]\n",
    "z = net.forward(x1)\n",
    "print('predict: ', z)\n",
    "loss = net.loss(z, y1)\n",
    "print('loss:', loss)"
   ]
  },
  {
   "cell_type": "markdown",
   "metadata": {},
   "source": [
    "# 训练过程\n",
    "上述计算过程描述了如何构建神经网络，通过神经网络完成预测值和损失函数的计算。接下来介绍如何求解参数$w$和$b$的数值，这个过程也称为模型训练过程。训练过程是深度学习模型的关键要素之一，其目标是让定义的损失函数$Loss$尽可能的小，也就是说找到一个参数解$w$和$b$，使得损失函数取得极小值。"
   ]
  },
  {
   "cell_type": "markdown",
   "metadata": {},
   "source": [
    "## 梯度下降法\n",
    "在现实中存在大量的函数正向求解容易，但反向求解较难，被称为单向函数，这种函数在密码学中有大量的应用。密码锁的特点是可以迅速判断一个密钥是否是正确的(已知xxx，求yyy很容易)，但是即使获取到密码锁系统，无法破解出正确的密钥是什么（已知$y$，求$x$很难）。\n",
    "\n",
    "这种情况特别类似于一位想从山峰走到坡谷的盲人，他看不见坡谷在哪（无法逆向求解出$Loss$导数为0时的参数值），但可以伸脚探索身边的坡度（当前点的导数值，也称为梯度）。那么，求解$Loss$函数最小值可以这样实现：从当前的参数取值，一步步的按照下坡的方向下降，直到走到最低点。这种方法笔者称它为“盲人下坡法”。哦不，有个更正式的说法“梯度下降法”。\n",
    "\n",
    "训练的关键是找到一组$(w, b)$，使得损失函数$L$取极小值。我们先看一下损失函数$L$只随两个参数$w_5$、$w_9$变化时的简单情形，启发下寻解的思路。\n",
    "\n",
    "$$L=L(w_5, w_9)$$\n",
    "\n",
    "这里我们将$w_0,w_1, ..., w_{12}$中除$w_5,w_9$之外的参数和$b$都固定下来，可以用图画出$)L(w_5, w_9)$的形式。"
   ]
  },
  {
   "cell_type": "code",
   "execution_count": 36,
   "metadata": {},
   "outputs": [
    {
     "data": {
      "image/png": "[encoded data removed]",
      "text/plain": [
       "<Figure size 432x288 with 1 Axes>"
      ]
     },
     "metadata": {
      "needs_background": "light"
     },
     "output_type": "display_data"
    }
   ],
   "source": [
    "net = Network(13)\n",
    "losses = []\n",
    "#只画出参数w5和w9在区间[-160, 160]的曲线部分，以及包含损失函数的极值\n",
    "w5 = np.arange(-160.0, 160.0, 1.0)\n",
    "w9 = np.arange(-160.0, 160.0, 1.0)\n",
    "losses = np.zeros([len(w5), len(w9)])\n",
    "\n",
    "#计算设定区域内每个参数取值所对应的Loss\n",
    "for i in range(len(w5)):\n",
    "    for j in range(len(w9)):\n",
    "        net.w[5] = w5[i]\n",
    "        net.w[9] = w9[j]\n",
    "        z = net.forward(x)\n",
    "        loss = net.loss(z, y)\n",
    "        losses[i, j] = loss\n",
    "\n",
    "#使用matplotlib将两个变量和对应的Loss作3D图\n",
    "import matplotlib.pyplot as plt\n",
    "from mpl_toolkits.mplot3d import Axes3D\n",
    "fig = plt.figure()\n",
    "ax = Axes3D(fig)\n",
    "\n",
    "w5, w9 = np.meshgrid(w5, w9)\n",
    "\n",
    "ax.plot_surface(w5, w9, losses, rstride=1, cstride=1, cmap='rainbow')\n",
    "plt.show()"
   ]
  },
  {
   "cell_type": "markdown",
   "metadata": {},
   "source": [
    "对于这种简单情形，我们利用上面的程序，可以在三维空间中画出损失函数随参数变化的曲面图。从图中可以看出有些区域的函数值明显比周围的点小。\n",
    "\n",
    "需要说明的是：为什么这里我们选择$w_5$和$w_9$来画图？这是因为选择这两个参数的时候，可比较直观的从损失函数的曲面图上发现极值点的存在。其他参数组合，从图形上观测损失函数的极值点不够直观。\n",
    "\n",
    "### 误差为什么要选均方误差\n",
    "均方误差表现的“圆滑”的坡度有两个好处：\n",
    "\n",
    "曲线的最低点是可导的。\n",
    "越接近最低点，曲线的坡度逐渐放缓，有助于通过当前的梯度来判断接近最低点的程度（是否逐渐减少步长，以免错过最低点）。\n",
    "\n",
    "而绝对值误差是不具备这两个特性的，这也是损失函数的设计不仅仅要考虑“合理性”，还要追求“易解性”的原因。\n",
    "\n",
    "现在我们要找出一组$[w_5, w_9]$的值，使得损失函数最小，实现梯度下降法的方案如下：\n",
    "\n",
    "步骤1：随机的选一组初始值，例如：$[w_5, w_9] = [-100.0, -100.0]$\n",
    "\n",
    "步骤2：选取下一个点$[w_5^{'} , w_9^{'}]$，使得$L(w_5^{'} , w_9^{'}) < L(w_5, w_9)$\n",
    "\n",
    "步骤3：重复步骤2，直到损失函数几乎不再下降。\n",
    "\n",
    "如何选择$[w_5^{'} , w_9^{'}]$是至关重要的，第一要保证$L$是下降的，第二要使得下降的趋势尽可能的快。微积分的基础知识告诉我们，沿着梯度的反方向，是函数值下降最快的方向"
   ]
  },
  {
   "cell_type": "markdown",
   "metadata": {},
   "source": [
    "## 计算梯度\n",
    "上面我们讲过了损失函数的计算方法，这里稍微改写，为了使梯度计算更加简洁，引入因子$\\frac{1}{2}$，定义损失函数如下：\n",
    "\n",
    "$$L= \\frac{1}{2N}\\sum_{i=1}^N{(y_i - z_i)^2}$$\n",
    "\n",
    "其中$z_i$是网络对第$i$个样本的预测值：\n",
    "\n",
    "$$z_i = \\sum_{j=0}^{12}{x_i^{j}\\cdot w_j} + b$$\n",
    "\n",
    "梯度的定义：\n",
    "\n",
    "$$𝑔𝑟𝑎𝑑𝑖𝑒𝑛𝑡 = (\\frac{\\partial{L}}{\\partial{w_0}},\\frac{\\partial{L}}{\\partial{w_1}}, ... ,\\frac{\\partial{L}}{\\partial{w_{12}}} ,\\frac{\\partial{L}}{\\partial{b}})$$\n",
    "\n",
    "可以计算出$L$对$w$和$b$的偏导数：\n",
    "\n",
    "$$\\frac{\\partial{L}}{\\partial{w_j}} = \\frac{1}{N}\\sum_{i=1}^N{(z_i - y_i)\\frac{\\partial{z_i}}{\\partial{w_j}}} = \\frac{1}{N}\\sum_{i=1}^N{(z_i - y_i)x_i^{j}}$$\n",
    "\n",
    "$$\\frac{\\partial{L}}{\\partial{b}} = \\frac{1}{N}\\sum_{i=1}^N{(z_i - y_i)\\frac{\\partial{z_i}}{\\partial{b}}} = \\frac{1}{N}\\sum_{i=1}^N{(z_i - y_i)}$$\n",
    "\n",
    "从导数的计算过程可以看出，因子$\\frac{1}{2}$被消掉了，这是因为二次函数求导的时候会产生因子$2$，这也是我们将损失函数改写的原因。\n",
    "\n",
    "下面我们考虑只有一个样本的情况下，计算梯度：\n",
    "\n",
    "$$L= \\frac{1}{2}{(y_i - z_i)^2}$$\n",
    "\n",
    "$$z_1 = {x_1^{0}\\cdot w_0} + {x_1^{1}\\cdot w_1} + ... + {x_1^{12}\\cdot w_{12}} + b$$\n",
    "\n",
    "可以计算出：\n",
    "\n",
    "$$L= \\frac{1}{2}{({x_1^{0}\\cdot w_0} + {x_1^{1}\\cdot w_1} + ... + {x_1^{12}\\cdot w_{12}} + b - y_1)^2}$$\n",
    "\n",
    "可以计算出LLL对www和bbb的偏导数：\n",
    "\n",
    "$$\\frac{\\partial{L}}{\\partial{w_0}} = ({x_1^{0}\\cdot w_0} + {x_1^{1}\\cdot w_1} + ... + {x_1^{12}\\cdot w_12} + b - y_1)\\cdot x_1^{0}=({z_1} - {y_1})\\cdot x_1^{0}$$\n",
    "\n",
    "$$\\frac{\\partial{L}}{\\partial{b}} = ({x_1^{0}\\cdot w_0} + {x_1^{1}\\cdot w_1} + ... + {x_1^{12}\\cdot w_{12}} + b - y_1)\\cdot 1 = ({z_1} - {y_1})$$\n",
    "\n",
    "可以通过具体的程序查看每个变量的数据和维度。"
   ]
  },
  {
   "cell_type": "code",
   "execution_count": 37,
   "metadata": {},
   "outputs": [
    {
     "name": "stdout",
     "output_type": "stream",
     "text": [
      "x1 [0.         0.18       0.07344184 0.         0.31481481 0.57750527\n",
      " 0.64160659 0.26920314 0.         0.22755741 0.28723404 1.\n",
      " 0.08967991], shape (13,)\n",
      "y1 [0.42222222], shape (1,)\n",
      "z1 [130.86954441], shape (1,)\n"
     ]
    }
   ],
   "source": [
    "x1 = x[0]\n",
    "y1 = y[0]\n",
    "z1 = net.forward(x1)\n",
    "print('x1 {}, shape {}'.format(x1, x1.shape))\n",
    "print('y1 {}, shape {}'.format(y1, y1.shape))\n",
    "print('z1 {}, shape {}'.format(z1, z1.shape))"
   ]
  },
  {
   "cell_type": "code",
   "execution_count": 38,
   "metadata": {},
   "outputs": [
    {
     "name": "stdout",
     "output_type": "stream",
     "text": [
      "gradient_w0 [0.]\n"
     ]
    }
   ],
   "source": [
    "gradient_w0 = (z1 - y1) * x1[0]\n",
    "print('gradient_w0 {}'.format(gradient_w0))"
   ]
  },
  {
   "cell_type": "code",
   "execution_count": 39,
   "metadata": {},
   "outputs": [
    {
     "name": "stdout",
     "output_type": "stream",
     "text": [
      "gradient_w1 [23.48051799]\n"
     ]
    }
   ],
   "source": [
    "gradient_w1 = (z1 - y1) * x1[1]\n",
    "print('gradient_w1 {}'.format(gradient_w1))"
   ]
  },
  {
   "cell_type": "code",
   "execution_count": 40,
   "metadata": {},
   "outputs": [
    {
     "name": "stdout",
     "output_type": "stream",
     "text": [
      "gradient_w1 [9.58029163]\n"
     ]
    }
   ],
   "source": [
    "gradient_w2= (z1 - y1) * x1[2]\n",
    "print('gradient_w1 {}'.format(gradient_w2))"
   ]
  },
  {
   "cell_type": "markdown",
   "metadata": {},
   "source": [
    "聪明的读者可能已经想到，写一个for循环即可计算从$w_0$到$w_{12}$的所有权重的梯度，该方法读者可以自行实现"
   ]
  },
  {
   "cell_type": "markdown",
   "metadata": {},
   "source": [
    "## 使用Numpy进行梯度计算\n",
    "基于Numpy广播机制（对向量和矩阵计算如同对1个单一变量计算一样），可以更快速的实现梯度计算。计算梯度的代码中直接用$(z_1 - y_1) \\cdot x_1$，得到的是一个13维的向量，每个分量分别代表该维度的梯度"
   ]
  },
  {
   "cell_type": "code",
   "execution_count": 41,
   "metadata": {},
   "outputs": [
    {
     "name": "stdout",
     "output_type": "stream",
     "text": [
      "gradient_w_by_sample1 [  0.          23.48051799   9.58029163   0.          41.06674958\n",
      "  75.33401592  83.69586171  35.11682862   0.          29.68425495\n",
      "  37.46891169 130.44732219  11.69850434], gradient.shape (13,)\n"
     ]
    }
   ],
   "source": [
    "gradient_w = (z1 - y1) * x1\n",
    "print('gradient_w_by_sample1 {}, gradient.shape {}'.format(gradient_w, gradient_w.shape))"
   ]
  },
  {
   "cell_type": "markdown",
   "metadata": {},
   "source": [
    "输入数据中有多个样本，每个样本都对梯度有贡献。如上代码计算了只有样本1时的梯度值，同样的计算方法也可以计算样本2和样本3对梯度的贡献。"
   ]
  },
  {
   "cell_type": "code",
   "execution_count": 42,
   "metadata": {},
   "outputs": [
    {
     "name": "stdout",
     "output_type": "stream",
     "text": [
      "gradient_w_by_sample2 [2.54738434e-02 0.00000000e+00 2.83333765e+01 0.00000000e+00\n",
      " 1.86624242e+01 5.91703008e+01 8.45121992e+01 3.76793284e+01\n",
      " 4.69458498e+00 1.23980167e+01 5.97311025e+01 1.07975454e+02\n",
      " 2.20777626e+01], gradient.shape (13,)\n"
     ]
    }
   ],
   "source": [
    "x2 = x[1]\n",
    "y2 = y[1]\n",
    "z2 = net.forward(x2)\n",
    "gradient_w = (z2 - y2) * x2\n",
    "print('gradient_w_by_sample2 {}, gradient.shape {}'.format(gradient_w, gradient_w.shape))"
   ]
  },
  {
   "cell_type": "code",
   "execution_count": 43,
   "metadata": {},
   "outputs": [
    {
     "name": "stdout",
     "output_type": "stream",
     "text": [
      "gradient_w_by_sample3 [3.07963708e-02 0.00000000e+00 3.42860463e+01 0.00000000e+00\n",
      " 2.25832858e+01 9.07287666e+01 7.83155260e+01 4.55955257e+01\n",
      " 5.68088867e+00 1.50027645e+01 7.22802431e+01 1.29029688e+02\n",
      " 8.29246719e+00], gradient.shape (13,)\n"
     ]
    }
   ],
   "source": [
    "x3 = x[2]\n",
    "y3 = y[2]\n",
    "z3 = net.forward(x3)\n",
    "gradient_w = (z3 - y3) * x3\n",
    "print('gradient_w_by_sample3 {}, gradient.shape {}'.format(gradient_w, gradient_w.shape))"
   ]
  },
  {
   "cell_type": "markdown",
   "metadata": {},
   "source": [
    "可能有的读者再次想到可以使用for循环把每个样本对梯度的贡献都计算出来，然后再作平均。但是我们不需要这么做，仍然可以使用Numpy的矩阵操作来简化运算，如3个样本的情况。"
   ]
  },
  {
   "cell_type": "code",
   "execution_count": 44,
   "metadata": {},
   "outputs": [
    {
     "name": "stdout",
     "output_type": "stream",
     "text": [
      "x [[0.00000000e+00 1.80000000e-01 7.34418420e-02 0.00000000e+00\n",
      "  3.14814815e-01 5.77505269e-01 6.41606591e-01 2.69203139e-01\n",
      "  0.00000000e+00 2.27557411e-01 2.87234043e-01 1.00000000e+00\n",
      "  8.96799117e-02]\n",
      " [2.35922539e-04 0.00000000e+00 2.62405717e-01 0.00000000e+00\n",
      "  1.72839506e-01 5.47997701e-01 7.82698249e-01 3.48961980e-01\n",
      "  4.34782609e-02 1.14822547e-01 5.53191489e-01 1.00000000e+00\n",
      "  2.04470199e-01]\n",
      " [2.35697744e-04 0.00000000e+00 2.62405717e-01 0.00000000e+00\n",
      "  1.72839506e-01 6.94385898e-01 5.99382080e-01 3.48961980e-01\n",
      "  4.34782609e-02 1.14822547e-01 5.53191489e-01 9.87519166e-01\n",
      "  6.34657837e-02]], shape (3, 13)\n",
      "y [[0.42222222]\n",
      " [0.36888889]\n",
      " [0.66      ]], shape (3, 1)\n",
      "z [[130.86954441]\n",
      " [108.34434338]\n",
      " [131.3204395 ]], shape (3, 1)\n"
     ]
    }
   ],
   "source": [
    "# 注意这里是一次取出3个样本的数据，不是取出第3个样本\n",
    "x3samples = x[0:3]\n",
    "y3samples = y[0:3]\n",
    "z3samples = net.forward(x3samples)\n",
    "\n",
    "print('x {}, shape {}'.format(x3samples, x3samples.shape))\n",
    "print('y {}, shape {}'.format(y3samples, y3samples.shape))\n",
    "print('z {}, shape {}'.format(z3samples, z3samples.shape))"
   ]
  },
  {
   "cell_type": "markdown",
   "metadata": {},
   "source": [
    "上面的x3samples, y3samples, z3samples的第一维大小均为3，表示有3个样本。下面计算这3个样本对梯度的贡献。"
   ]
  },
  {
   "cell_type": "code",
   "execution_count": 45,
   "metadata": {},
   "outputs": [
    {
     "name": "stdout",
     "output_type": "stream",
     "text": [
      "gradient_w [[0.00000000e+00 2.34805180e+01 9.58029163e+00 0.00000000e+00\n",
      "  4.10667496e+01 7.53340159e+01 8.36958617e+01 3.51168286e+01\n",
      "  0.00000000e+00 2.96842549e+01 3.74689117e+01 1.30447322e+02\n",
      "  1.16985043e+01]\n",
      " [2.54738434e-02 0.00000000e+00 2.83333765e+01 0.00000000e+00\n",
      "  1.86624242e+01 5.91703008e+01 8.45121992e+01 3.76793284e+01\n",
      "  4.69458498e+00 1.23980167e+01 5.97311025e+01 1.07975454e+02\n",
      "  2.20777626e+01]\n",
      " [3.07963708e-02 0.00000000e+00 3.42860463e+01 0.00000000e+00\n",
      "  2.25832858e+01 9.07287666e+01 7.83155260e+01 4.55955257e+01\n",
      "  5.68088867e+00 1.50027645e+01 7.22802431e+01 1.29029688e+02\n",
      "  8.29246719e+00]], gradient.shape (3, 13)\n"
     ]
    }
   ],
   "source": [
    "gradient_w = (z3samples - y3samples) * x3samples\n",
    "print('gradient_w {}, gradient.shape {}'.format(gradient_w, gradient_w.shape))"
   ]
  },
  {
   "cell_type": "markdown",
   "metadata": {},
   "source": [
    "此处可见，计算梯度`gradient_w`的维度是$3×13$，并且其第1行与上面第1个样本计算的梯度gradient_w_by_sample1一致，第2行与上面第2个样本计算的梯度gradient_w_by_sample2一致，第3行与上面第3个样本计算的梯度gradient_w_by_sample3一致。这里使用矩阵操作，可以更加方便的对3个样本分别计算各自对梯度的贡献。\n",
    "\n",
    "那么对于有N个样本的情形，我们可以直接使用如下方式计算出所有样本对梯度的贡献，这就是使用Numpy库广播功能带来的便捷。 小结一下这里使用Numpy库的广播功能：\n",
    "\n",
    "一方面可以扩展参数的维度，代替for循环来计算1个样本对从$w_0$到$w_{12}$的所有参数的梯度。\n",
    "另一方面可以扩展样本的维度，代替for循环来计算样本0到样本403对参数的梯度。"
   ]
  },
  {
   "cell_type": "code",
   "execution_count": 46,
   "metadata": {},
   "outputs": [
    {
     "name": "stdout",
     "output_type": "stream",
     "text": [
      "gradient_w shape (404, 13)\n",
      "[[0.00000000e+00 2.34805180e+01 9.58029163e+00 ... 3.74689117e+01\n",
      "  1.30447322e+02 1.16985043e+01]\n",
      " [2.54738434e-02 0.00000000e+00 2.83333765e+01 ... 5.97311025e+01\n",
      "  1.07975454e+02 2.20777626e+01]\n",
      " [3.07963708e-02 0.00000000e+00 3.42860463e+01 ... 7.22802431e+01\n",
      "  1.29029688e+02 8.29246719e+00]\n",
      " ...\n",
      " [3.97706874e+01 0.00000000e+00 1.74130673e+02 ... 2.01043762e+02\n",
      "  2.48659390e+02 1.27554582e+02]\n",
      " [2.69696515e+01 0.00000000e+00 1.75225687e+02 ... 2.02308019e+02\n",
      "  2.34270491e+02 1.28287658e+02]\n",
      " [6.08972123e+01 0.00000000e+00 1.53017134e+02 ... 1.76666981e+02\n",
      "  2.18509161e+02 1.08772220e+02]]\n"
     ]
    }
   ],
   "source": [
    "z = net.forward(x)\n",
    "gradient_w = (z - y) * x\n",
    "print('gradient_w shape {}'.format(gradient_w.shape))\n",
    "print(gradient_w)"
   ]
  },
  {
   "cell_type": "markdown",
   "metadata": {},
   "source": [
    "上面gradient_w的每一行代表了一个样本对梯度的贡献。根据梯度的计算公式，总梯度是对每个样本对梯度贡献的平均值。\n",
    "\n",
    "$$\\frac{\\partial{L}}{\\partial{w_j}} = \\frac{1}{N}\\sum_{i=1}^N{(z_i - y_i)\\frac{\\partial{z_i}}{\\partial{w_j}}} = \\frac{1}{N}\\sum_{i=1}^N{(z_i - y_i)x_i^{j}}$$\n",
    "\n",
    "我们也可以使用Numpy的均值函数来完成此过程："
   ]
  },
  {
   "cell_type": "code",
   "execution_count": 47,
   "metadata": {},
   "outputs": [
    {
     "name": "stdout",
     "output_type": "stream",
     "text": [
      "gradient_w  (13,)\n",
      "w  (13, 1)\n",
      "[  4.6555403   19.35268996  55.88081118  14.00266972  47.98588869\n",
      "  76.87210821  94.8555119   36.07579608  45.44575958  59.65733292\n",
      "  83.65114918 134.80387478  38.93998153]\n",
      "[[ 1.76405235e+00]\n",
      " [ 4.00157208e-01]\n",
      " [ 9.78737984e-01]\n",
      " [ 2.24089320e+00]\n",
      " [ 1.86755799e+00]\n",
      " [ 1.59000000e+02]\n",
      " [ 9.50088418e-01]\n",
      " [-1.51357208e-01]\n",
      " [-1.03218852e-01]\n",
      " [ 1.59000000e+02]\n",
      " [ 1.44043571e-01]\n",
      " [ 1.45427351e+00]\n",
      " [ 7.61037725e-01]]\n"
     ]
    }
   ],
   "source": [
    "# 用均值来做更新\n",
    "# axis = 0 表示把每一行做相加然后再除以总的行数\n",
    "gradient_w = np.mean(gradient_w, axis=0)\n",
    "print('gradient_w ', gradient_w.shape)\n",
    "print('w ', net.w.shape)\n",
    "print(gradient_w)\n",
    "print(net.w)"
   ]
  },
  {
   "cell_type": "markdown",
   "metadata": {},
   "source": [
    "我们使用Numpy的矩阵操作方便地完成了gradient的计算，但引入了一个问题，gradient_w的形状是(13,)，而w的维度是(13, 1)。导致该问题的原因是使用np.mean函数时消除了第0维。为了加减乘除等计算方便，gradient_w和w必须保持一致的形状。因此我们将gradient_w的维度也设置为(13,1)，代码如下："
   ]
  },
  {
   "cell_type": "code",
   "execution_count": 48,
   "metadata": {},
   "outputs": [
    {
     "name": "stdout",
     "output_type": "stream",
     "text": [
      "gradient_w shape (13, 1)\n"
     ]
    }
   ],
   "source": [
    "gradient_w = gradient_w[:, np.newaxis] # 加一个新的维度，这个维度是虚的，实际上并没有加\n",
    "print('gradient_w shape', gradient_w.shape)"
   ]
  },
  {
   "cell_type": "code",
   "execution_count": 49,
   "metadata": {},
   "outputs": [
    {
     "name": "stdout",
     "output_type": "stream",
     "text": [
      "[[  4.6555403 ]\n",
      " [ 19.35268996]\n",
      " [ 55.88081118]\n",
      " [ 14.00266972]\n",
      " [ 47.98588869]\n",
      " [ 76.87210821]\n",
      " [ 94.8555119 ]\n",
      " [ 36.07579608]\n",
      " [ 45.44575958]\n",
      " [ 59.65733292]\n",
      " [ 83.65114918]\n",
      " [134.80387478]\n",
      " [ 38.93998153]]\n"
     ]
    }
   ],
   "source": [
    "z = net.forward(x)\n",
    "gradient_w = (z - y) * x\n",
    "gradient_w = np.mean(gradient_w, axis=0)\n",
    "gradient_w = gradient_w[:, np.newaxis]\n",
    "print(gradient_w)"
   ]
  },
  {
   "cell_type": "markdown",
   "metadata": {},
   "source": [
    "上述代码非常简洁地完成了w的梯度计算。同样，计算b的梯度的代码也是类似的原理。"
   ]
  },
  {
   "cell_type": "code",
   "execution_count": 51,
   "metadata": {},
   "outputs": [
    {
     "name": "stdout",
     "output_type": "stream",
     "text": [
      "142.50289323156107\n"
     ]
    }
   ],
   "source": [
    "gradient_b = (z - y)\n",
    "gradient_b = np.mean(gradient_b)\n",
    "# 此处b是一个数值，所以可以直接用np.mean得到一个标量\n",
    "print(gradient_b)"
   ]
  },
  {
   "cell_type": "markdown",
   "metadata": {},
   "source": [
    "将上面计算w和b的梯度的过程，写成Network类的gradient函数，实现方法如下所示。"
   ]
  },
  {
   "cell_type": "code",
   "execution_count": 52,
   "metadata": {},
   "outputs": [],
   "source": [
    "class Network(object):\n",
    "    def __init__(self, num_of_weights):\n",
    "        # 随机产生w的初始值\n",
    "        # 为了保持程序每次运行结果的一致性，此处设置固定的随机数种子\n",
    "        np.random.seed(0)\n",
    "        self.w = np.random.randn(num_of_weights, 1)\n",
    "        self.b = 0.\n",
    "        \n",
    "    def forward(self, x):\n",
    "        z = np.dot(x, self.w) + self.b\n",
    "        return z\n",
    "    \n",
    "    def loss(self, z, y):\n",
    "        error = z - y\n",
    "        num_samples = error.shape[0]\n",
    "        cost = error * error\n",
    "        cost = np.sum(cost) / num_samples\n",
    "        return cost\n",
    "    \n",
    "    def gradient(self, x, y):\n",
    "        z = self.forward(x)\n",
    "        gradient_w = (z-y)*x\n",
    "        gradient_w = np.mean(gradient_w, axis=0)\n",
    "        gradient_w = gradient_w[:, np.newaxis]\n",
    "        gradient_b = (z - y)\n",
    "        gradient_b = np.mean(gradient_b)\n",
    "        \n",
    "        return gradient_w, gradient_b"
   ]
  },
  {
   "cell_type": "code",
   "execution_count": 53,
   "metadata": {},
   "outputs": [
    {
     "name": "stdout",
     "output_type": "stream",
     "text": [
      "point [-100.0, -100.0], loss 7873.345739941161\n",
      "gradient [-45.87968288123223, -35.50236884482904]\n"
     ]
    }
   ],
   "source": [
    "# 调用上面定义的gradient函数，计算梯度\n",
    "# 初始化网络\n",
    "net = Network(13)\n",
    "# 设置[w5, w9] = [-100., -100.]\n",
    "net.w[5] = -100.0\n",
    "net.w[9] = -100.0\n",
    "\n",
    "z = net.forward(x)\n",
    "loss = net.loss(z, y)\n",
    "gradient_w, gradient_b = net.gradient(x, y)\n",
    "gradient_w5 = gradient_w[5][0]\n",
    "gradient_w9 = gradient_w[9][0]\n",
    "print('point {}, loss {}'.format([net.w[5][0], net.w[9][0]], loss))\n",
    "print('gradient {}'.format([gradient_w5, gradient_w9]))"
   ]
  },
  {
   "cell_type": "markdown",
   "metadata": {},
   "source": [
    "## 确定损失函数更小的点\n",
    "下面我们开始研究更新梯度的方法。首先沿着梯度的反方向移动一小步，找到下一个点P1，观察损失函数的变化。"
   ]
  },
  {
   "cell_type": "code",
   "execution_count": null,
   "metadata": {},
   "outputs": [],
   "source": [
    "# 在[w5, w9]平面上，沿着梯度的反方向移动到下一个点P1\n",
    "# 定义移动步长 eta\n",
    "eta = 0.1\n",
    "# 更新参数w5和w9\n",
    "net.w[5] = net.w[5] - eta * gradient_w5\n",
    "net.w[9] = net.w[9] - eta * gradient_w9\n",
    "# 重新计算z和loss\n",
    "z = net.forward(x)\n",
    "loss = net.loss(z, y)\n",
    "gradient_w, gradient_b = net.gradient(x, y)\n",
    "gradient_w5 = gradient_w[5][0]\n",
    "gradient_w9 = gradient_w[9][0]\n",
    "print('point {}, loss {}'.format([net.w[5][0], net.w[9][0]], loss))\n",
    "print('gradient {}'.format([gradient_w5, gradient_w9]))"
   ]
  },
  {
   "cell_type": "markdown",
   "metadata": {},
   "source": [
    "运行上面的代码，可以发现沿着梯度反方向走一小步，下一个点的损失函数的确减少了。感兴趣的话，大家可以尝试不停的点击上面的代码块，观察损失函数是否一直在变小。\n",
    "\n",
    "在上述代码中，每次更新参数使用的语句： `net.w[5] = net.w[5] - eta * gradient_w5`\n",
    "\n",
    "- 相减：参数需要向梯度的反方向移动。\n",
    "- eta：控制每次参数值沿着梯度反方向变动的大小，即每次移动的步长，又称为学习率。"
   ]
  },
  {
   "cell_type": "markdown",
   "metadata": {},
   "source": [
    "## 代码封装Train函数\n",
    "将上面的循环计算过程封装在train和update函数中，实现方法如下所示。"
   ]
  },
  {
   "cell_type": "code",
   "execution_count": 56,
   "metadata": {},
   "outputs": [
    {
     "name": "stdout",
     "output_type": "stream",
     "text": [
      "iter 0, point [-99.54120317118768, -99.64497631155172], loss 7873.345739941161\n",
      "iter 50, point [-76.60136173057143, -83.72583210997178], loss 4968.072469025462\n",
      "iter 100, point [-53.66152028995518, -71.17197938338234], loss 2879.1147724286443\n",
      "iter 150, point [-30.72167884933894, -61.670172857784976], loss 1466.5327423342467\n",
      "iter 200, point [-7.781837408722867, -54.93632449635134], loss 617.3700852775535\n",
      "iter 250, point [15.158004031893235, -50.712789509620166], loss 240.66496301508988\n",
      "iter 300, point [38.097845472509356, -48.76590498704591], loss 263.3649807616624\n",
      "iter 350, point [61.037686913125604, -48.883757635606784], loss 626.9841087431722\n",
      "iter 400, point [83.97752835374185, -50.87415929991915], loss 1284.86827670467\n",
      "iter 450, point [106.9173697943581, -54.56281092331177], loss 2199.960180490574\n",
      "iter 500, point [129.85721123497433, -59.791637409555065], loss 3342.9734013364086\n",
      "iter 550, point [152.79705267559058, -66.41727747761158], loss 4690.90201557339\n",
      "iter 600, point [175.73689411620683, -74.30971408247602], loss 6225.805084681371\n",
      "iter 650, point [198.67673555682308, -83.35103231804838], loss 7933.8162725744905\n",
      "iter 700, point [221.61657699743932, -93.43429293586317], loss 9804.337757669795\n",
      "iter 750, point [244.55641843805557, -104.46251071801534], loss 11829.38493621477\n",
      "iter 800, point [267.4962598786711, -116.34772794433134], loss 14003.05443384225\n",
      "iter 850, point [290.4361013192859, -129.0101741023017], loss 16321.092887329343\n",
      "iter 900, point [313.37594275990074, -142.37750381219763], loss 18780.548019594655\n",
      "iter 950, point [336.31578420051557, -156.3841056870115], loss 21379.486865555104\n",
      "iter 1000, point [359.2556256411304, -170.97047552452256], loss 24116.76874405237\n",
      "iter 1050, point [382.1954670817452, -186.08264784338095], loss 26991.86281808972\n",
      "iter 1100, point [405.13530852236005, -201.67168033247856], loss 30004.70192960018\n",
      "iter 1150, point [428.0751499629749, -217.69318628837652], loss 33155.56590782793\n",
      "iter 1200, point [451.0149914035897, -234.10691057400524], loss 36444.988791274394\n",
      "iter 1250, point [473.95483284420453, -250.87634504762516], loss 39873.68542064006\n",
      "iter 1300, point [496.89467428481936, -267.9683797881107], loss 43442.493694224504\n",
      "iter 1350, point [519.8345157254342, -285.3529867845937], loss 47152.32946065858\n",
      "iter 1400, point [542.7743571660491, -303.0029330686448], loss 51004.1515836084\n",
      "iter 1450, point [565.7141986066639, -320.8935205484477], loss 54998.93517137582\n",
      "iter 1500, point [588.6540400472787, -339.0023500595146], loss 59137.651339334305\n",
      "iter 1550, point [611.5938814878936, -357.3091073778354], loss 63421.25217984331\n",
      "iter 1600, point [634.5337229285084, -375.7953691511761], loss 67850.6598649645\n",
      "iter 1650, point [657.4735643691232, -394.4444268945168], loss 72426.75901205206\n",
      "iter 1700, point [680.413405809738, -413.2411273682029], loss 77150.39160939249\n",
      "iter 1750, point [703.3532472503529, -432.1717278138836], loss 82022.35393533098\n",
      "iter 1800, point [726.2930886909677, -451.2237646652591], loss 87043.39501532562\n",
      "iter 1850, point [749.2329301315825, -470.38593447938626], loss 92214.2162516985\n",
      "iter 1900, point [772.1727715721973, -489.6479859510364], loss 97535.47193426894\n",
      "iter 1950, point [795.1126130128122, -509.00062197848433], loss 103007.77039963708\n"
     ]
    },
    {
     "data": {
      "image/png": "[encoded data removed]",
      "text/plain": [
       "<Figure size 432x288 with 1 Axes>"
      ]
     },
     "metadata": {
      "needs_background": "light"
     },
     "output_type": "display_data"
    }
   ],
   "source": [
    "class Network(object):\n",
    "    def __init__(self, num_of_weights):\n",
    "        # 随机产生w的初始值\n",
    "        # 为了保持程序每次运行结果的一致性，此处设置固定的随机数种子\n",
    "        np.random.seed(0)\n",
    "        self.w = np.random.randn(num_of_weights,1)\n",
    "        self.w[5] = -100.\n",
    "        self.w[9] = -100.\n",
    "        self.b = 0.\n",
    "        \n",
    "    def forward(self, x):\n",
    "        z = np.dot(x, self.w) + self.b\n",
    "        return z\n",
    "    \n",
    "    def loss(self, z, y):\n",
    "        error = z - y\n",
    "        num_samples = error.shape[0]\n",
    "        cost = error * error\n",
    "        cost = np.sum(cost) / num_samples\n",
    "        return cost\n",
    "    \n",
    "    def gradient(self, x, y):\n",
    "        z = self.forward(x)\n",
    "        gradient_w = (z-y)*x\n",
    "        gradient_w = np.mean(gradient_w, axis=0)\n",
    "        gradient_w = gradient_w[:, np.newaxis]\n",
    "        gradient_b = (z - y)\n",
    "        gradient_b = np.mean(gradient_b)        \n",
    "        return gradient_w, gradient_b\n",
    "    \n",
    "    def update(self, graident_w5, gradient_w9, eta=0.01):\n",
    "        net.w[5] = net.w[5] - eta * gradient_w5\n",
    "        net.w[9] = net.w[9] - eta * gradient_w9\n",
    "        \n",
    "    def train(self, x, y, iterations=100, eta=0.01):\n",
    "        points = []\n",
    "        losses = []\n",
    "        for i in range(iterations):\n",
    "            points.append([net.w[5][0], net.w[9][0]])\n",
    "            z = self.forward(x)\n",
    "            L = self.loss(z, y)\n",
    "            gradient_w, gradient_b = self.gradient(x, y)\n",
    "            gradient_w5 = gradient_w[5][0]\n",
    "            gradient_w9 = gradient_w[9][0]\n",
    "            self.update(gradient_w5, gradient_w9, eta)\n",
    "            losses.append(L)\n",
    "            if i % 50 == 0:\n",
    "                print('iter {}, point {}, loss {}'.format(i, [net.w[5][0], net.w[9][0]], L))\n",
    "        return points, losses\n",
    "\n",
    "# 获取数据\n",
    "train_data, test_data = load_data()\n",
    "x = train_data[:, :-1]\n",
    "y = train_data[:, -1:]\n",
    "# 创建网络\n",
    "net = Network(13)\n",
    "num_iterations=2000\n",
    "# 启动训练\n",
    "points, losses = net.train(x, y, iterations=num_iterations, eta=0.01)\n",
    "\n",
    "# 画出损失函数的变化趋势\n",
    "plot_x = np.arange(num_iterations)\n",
    "plot_y = np.array(losses)\n",
    "plt.plot(plot_x, plot_y)\n",
    "plt.show()"
   ]
  },
  {
   "cell_type": "markdown",
   "metadata": {},
   "source": [
    "训练扩展到全部参数\n",
    "为了能给读者直观的感受，上面演示的梯度下降的过程仅包含$w_5$和$w_9$两个参数，但房价预测的完整模型，必须要对所有参数$w$和$b$进行求解。这需要将Network中的update和train函数进行修改。由于不再限定参与计算的参数（所有参数均参与计算），修改之后的代码反而更加简洁。实现逻辑：“前向计算输出、根据输出和真实值计算Loss、基于Loss和输入计算梯度、根据梯度更新参数值”四个部分反复执行，直到损失函数最小。具体代码如下所示。"
   ]
  },
  {
   "cell_type": "code",
   "execution_count": 57,
   "metadata": {},
   "outputs": [
    {
     "name": "stdout",
     "output_type": "stream",
     "text": [
      "iter 9, loss 5.143394325795511\n",
      "iter 19, loss 3.097924194225988\n",
      "iter 29, loss 2.082241020617026\n",
      "iter 39, loss 1.5673801618157397\n",
      "iter 49, loss 1.2966204735077431\n",
      "iter 59, loss 1.1453399043319765\n",
      "iter 69, loss 1.0530155717435201\n",
      "iter 79, loss 0.9902292156463155\n",
      "iter 89, loss 0.9426576903842504\n",
      "iter 99, loss 0.9033048096880774\n",
      "iter 109, loss 0.868732003041364\n",
      "iter 119, loss 0.837229250968144\n",
      "iter 129, loss 0.807927474161227\n",
      "iter 139, loss 0.7803677341465797\n",
      "iter 149, loss 0.7542920908532763\n",
      "iter 159, loss 0.7295420168915829\n",
      "iter 169, loss 0.7060090054240882\n",
      "iter 179, loss 0.6836105084697767\n",
      "iter 189, loss 0.6622781710179412\n",
      "iter 199, loss 0.6419520361168637\n",
      "iter 209, loss 0.622577651786949\n",
      "iter 219, loss 0.6041045903195837\n",
      "iter 229, loss 0.5864856570315078\n",
      "iter 239, loss 0.5696764374763879\n",
      "iter 249, loss 0.5536350125932015\n",
      "iter 259, loss 0.5383217588525027\n",
      "iter 269, loss 0.5236991929680567\n",
      "iter 279, loss 0.509731841376165\n",
      "iter 289, loss 0.4963861247069634\n",
      "iter 299, loss 0.48363025234390233\n",
      "iter 309, loss 0.47143412454019784\n",
      "iter 319, loss 0.45976924072044867\n",
      "iter 329, loss 0.44860861316590983\n",
      "iter 339, loss 0.4379266855659793\n",
      "iter 349, loss 0.4276992560632111\n",
      "iter 359, loss 0.4179034044959738\n",
      "iter 369, loss 0.4085174235863553\n",
      "iter 379, loss 0.39952075384787633\n",
      "iter 389, loss 0.39089392200622347\n",
      "iter 399, loss 0.382618482740513\n",
      "iter 409, loss 0.3746769635645124\n",
      "iter 419, loss 0.36705281267772816\n",
      "iter 429, loss 0.35973034962581096\n",
      "iter 439, loss 0.35269471861856694\n",
      "iter 449, loss 0.3459318443621334\n",
      "iter 459, loss 0.33942839026966587\n",
      "iter 469, loss 0.33317171892221653\n",
      "iter 479, loss 0.3271498546584252\n",
      "iter 489, loss 0.3213514481781961\n",
      "iter 499, loss 0.31576574305173283\n",
      "iter 509, loss 0.3103825440311682\n",
      "iter 519, loss 0.30519218706757245\n",
      "iter 529, loss 0.30018551094136725\n",
      "iter 539, loss 0.29535383041913843\n",
      "iter 549, loss 0.29068891085453674\n",
      "iter 559, loss 0.28618294415539336\n",
      "iter 569, loss 0.28182852604338504\n",
      "iter 579, loss 0.27761863453655344\n",
      "iter 589, loss 0.27354660958874766\n",
      "iter 599, loss 0.2696061338236152\n",
      "iter 609, loss 0.26579121430413205\n",
      "iter 619, loss 0.26209616528184804\n",
      "iter 629, loss 0.25851559187303397\n",
      "iter 639, loss 0.25504437461176843\n",
      "iter 649, loss 0.2516776548326958\n",
      "iter 659, loss 0.2484108208387405\n",
      "iter 669, loss 0.24523949481147198\n",
      "iter 679, loss 0.24215952042409844\n",
      "iter 689, loss 0.2391669511192288\n",
      "iter 699, loss 0.2362580390155805\n",
      "iter 709, loss 0.2334292244097483\n",
      "iter 719, loss 0.2306771258409729\n",
      "iter 729, loss 0.22799853068858245\n",
      "iter 739, loss 0.22539038627340982\n",
      "iter 749, loss 0.22284979143604464\n",
      "iter 759, loss 0.22037398856623477\n",
      "iter 769, loss 0.21796035605914357\n",
      "iter 779, loss 0.2156064011754777\n",
      "iter 789, loss 0.21330975328373866\n",
      "iter 799, loss 0.2110681574640261\n",
      "iter 809, loss 0.20887946845393043\n",
      "iter 819, loss 0.20674164491810018\n",
      "iter 829, loss 0.2046527440240648\n",
      "iter 839, loss 0.20261091630783168\n",
      "iter 849, loss 0.20061440081366638\n",
      "iter 859, loss 0.1986615204933024\n",
      "iter 869, loss 0.19675067785062839\n",
      "iter 879, loss 0.19488035081864621\n",
      "iter 889, loss 0.19304908885621125\n",
      "iter 899, loss 0.1912555092527351\n",
      "iter 909, loss 0.1894982936296714\n",
      "iter 919, loss 0.18777618462820625\n",
      "iter 929, loss 0.18608798277314595\n",
      "iter 939, loss 0.18443254350353405\n",
      "iter 949, loss 0.18280877436103968\n",
      "iter 959, loss 0.18121563232764165\n",
      "iter 969, loss 0.17965212130459232\n",
      "iter 979, loss 0.1781172897250724\n",
      "iter 989, loss 0.1766102282933619\n",
      "iter 999, loss 0.17513006784373505\n"
     ]
    },
    {
     "data": {
      "image/png": "[encoded data removed]",
      "text/plain": [
       "<Figure size 432x288 with 1 Axes>"
      ]
     },
     "metadata": {
      "needs_background": "light"
     },
     "output_type": "display_data"
    }
   ],
   "source": [
    "class Network(object):\n",
    "    def __init__(self, num_of_weights):\n",
    "        # 随机产生w的初始值\n",
    "        # 为了保持程序每次运行结果的一致性，此处设置固定的随机数种子\n",
    "        np.random.seed(0)\n",
    "        self.w = np.random.randn(num_of_weights, 1)\n",
    "        self.b = 0.\n",
    "        \n",
    "    def forward(self, x):\n",
    "        z = np.dot(x, self.w) + self.b\n",
    "        return z\n",
    "    \n",
    "    def loss(self, z, y):\n",
    "        error = z - y\n",
    "        num_samples = error.shape[0]\n",
    "        cost = error * error\n",
    "        cost = np.sum(cost) / num_samples\n",
    "        return cost\n",
    "    \n",
    "    def gradient(self, x, y):\n",
    "        z = self.forward(x)\n",
    "        gradient_w = (z-y)*x\n",
    "        gradient_w = np.mean(gradient_w, axis=0)\n",
    "        gradient_w = gradient_w[:, np.newaxis]\n",
    "        gradient_b = (z - y)\n",
    "        gradient_b = np.mean(gradient_b)        \n",
    "        return gradient_w, gradient_b\n",
    "    \n",
    "    def update(self, gradient_w, gradient_b, eta = 0.01):\n",
    "        self.w = self.w - eta * gradient_w\n",
    "        self.b = self.b - eta * gradient_b\n",
    "        \n",
    "    def train(self, x, y, iterations=100, eta=0.01):\n",
    "        losses = []\n",
    "        for i in range(iterations):\n",
    "            z = self.forward(x)\n",
    "            L = self.loss(z, y)\n",
    "            gradient_w, gradient_b = self.gradient(x, y)\n",
    "            self.update(gradient_w, gradient_b, eta)\n",
    "            losses.append(L)\n",
    "            if (i+1) % 10 == 0:\n",
    "                print('iter {}, loss {}'.format(i, L))\n",
    "        return losses\n",
    "\n",
    "# 获取数据\n",
    "train_data, test_data = load_data()\n",
    "x = train_data[:, :-1]\n",
    "y = train_data[:, -1:]\n",
    "# 创建网络\n",
    "net = Network(13)\n",
    "num_iterations=1000\n",
    "# 启动训练\n",
    "losses = net.train(x,y, iterations=num_iterations, eta=0.01)\n",
    "\n",
    "# 画出损失函数的变化趋势\n",
    "plot_x = np.arange(num_iterations)\n",
    "plot_y = np.array(losses)\n",
    "plt.plot(plot_x, plot_y)\n",
    "plt.show()"
   ]
  },
  {
   "cell_type": "markdown",
   "metadata": {},
   "source": [
    "# 随机梯度下降法（ Stochastic Gradient Descent）\n",
    "在上述程序中，每次损失函数和梯度计算都是基于数据集中的全量数据。对于波士顿房价预测任务数据集而言，样本数比较少，只有404个。但在实际问题中，数据集往往非常大，如果每次都使用全量数据进行计算，效率非常低，通俗地说就是“杀鸡焉用牛刀”。由于参数每次只沿着梯度反方向更新一点点，因此方向并不需要那么精确。一个合理的解决方案是每次从总的数据集中随机抽取出小部分数据来代表整体，基于这部分数据计算梯度和损失来更新参数，这种方法被称作随机梯度下降法（Stochastic Gradient Descent，SGD），核心概念如下：\n",
    "\n",
    "- mini-batch：每次迭代时抽取出来的一批数据被称为一个mini-batch。\n",
    "- batch_size：一个mini-batch所包含的样本数目称为batch_size。\n",
    "- epoch：当程序迭代的时候，按mini-batch逐渐抽取出样本，当把整个数据集都遍历到了的时候，则完成了一轮训练，也叫一个epoch。启动训练时，可以将训练的轮数num_epochs和batch_size作为参数传入。\n",
    "\n",
    "下面结合程序介绍具体的实现过程，涉及到数据处理和训练过程两部分代码的修改。"
   ]
  },
  {
   "cell_type": "markdown",
   "metadata": {},
   "source": [
    "## 数据处理代码修改\n",
    "数据处理需要实现拆分数据批次和样本乱序（为了实现随机抽样的效果）两个功能。"
   ]
  },
  {
   "cell_type": "code",
   "execution_count": 58,
   "metadata": {},
   "outputs": [
    {
     "data": {
      "text/plain": [
       "(404, 14)"
      ]
     },
     "execution_count": 58,
     "metadata": {},
     "output_type": "execute_result"
    }
   ],
   "source": [
    "# 获取数据\n",
    "train_data, test_data = load_data()\n",
    "train_data.shape"
   ]
  },
  {
   "cell_type": "markdown",
   "metadata": {},
   "source": [
    "train_data中一共包含404条数据，如果batch_size=10，即取前0-9号样本作为第一个mini-batch，命名train_data1。"
   ]
  },
  {
   "cell_type": "code",
   "execution_count": 59,
   "metadata": {},
   "outputs": [
    {
     "name": "stdout",
     "output_type": "stream",
     "text": [
      "(10, 14)\n"
     ]
    }
   ],
   "source": [
    "train_data1 = train_data[0:10]\n",
    "print(train_data1.shape)"
   ]
  },
  {
   "cell_type": "markdown",
   "metadata": {},
   "source": [
    "使用train_data1的数据（0-9号样本）计算梯度并更新网络参数。"
   ]
  },
  {
   "cell_type": "code",
   "execution_count": 60,
   "metadata": {},
   "outputs": [
    {
     "name": "stdout",
     "output_type": "stream",
     "text": [
      "[4.497480200683046]\n"
     ]
    }
   ],
   "source": [
    "net = Network(13)\n",
    "x = train_data1[:, :-1]\n",
    "y = train_data1[:, -1:]\n",
    "loss = net.train(x, y, iterations=1, eta=0.01)\n",
    "print(loss)"
   ]
  },
  {
   "cell_type": "markdown",
   "metadata": {},
   "source": [
    "再取出10-19号样本作为第二个mini-batch，计算梯度并更新网络参数。"
   ]
  },
  {
   "cell_type": "code",
   "execution_count": 62,
   "metadata": {},
   "outputs": [
    {
     "name": "stdout",
     "output_type": "stream",
     "text": [
      "[5.849682302465982]\n"
     ]
    }
   ],
   "source": [
    "train_data2 = train_data[10:20]\n",
    "x = train_data2[:, :-1]\n",
    "y = train_data2[:, -1:]\n",
    "loss = net.train(x, y, iterations=1, eta=0.01)\n",
    "print(loss)"
   ]
  },
  {
   "cell_type": "markdown",
   "metadata": {},
   "source": [
    "按此方法不断的取出新的mini-batch，并逐渐更新网络参数。\n",
    "\n",
    "接下来，将train_data分成大小为batch_size的多个mini_batch，如下代码所示：将train_data分成 $\\frac{404}{10} + 1 = 41$个 mini_batch，其中前40个mini_batch，每个均含有10个样本，最后一个mini_batch只含有4个样本。"
   ]
  },
  {
   "cell_type": "code",
   "execution_count": 63,
   "metadata": {},
   "outputs": [
    {
     "name": "stdout",
     "output_type": "stream",
     "text": [
      "total number of mini_batches is  41\n",
      "first mini_batch shape  (10, 14)\n",
      "last mini_batch shape  (4, 14)\n"
     ]
    }
   ],
   "source": [
    "batch_size = 10\n",
    "n = len(train_data)\n",
    "mini_batches = [train_data[k:k+batch_size] for k in range(0, n, batch_size)]\n",
    "print('total number of mini_batches is ', len(mini_batches))\n",
    "print('first mini_batch shape ', mini_batches[0].shape)\n",
    "print('last mini_batch shape ', mini_batches[-1].shape)"
   ]
  },
  {
   "cell_type": "markdown",
   "metadata": {},
   "source": [
    "另外，这里是按顺序读取mini_batch，而SGD里面是随机抽取一部分样本代表总体。为了实现随机抽样的效果，我们先将train_data里面的样本顺序随机打乱，然后再抽取mini_batch。随机打乱样本顺序，需要用到np.random.shuffle函数，下面先介绍它的用法。\n",
    "\n",
    "说明：\n",
    "\n",
    "通过大量实验发现，模型对最后出现的数据印象更加深刻。训练数据导入后，越接近模型训练结束，最后几个批次数据对模型参数的影响越大。为了避免模型记忆影响训练效果，需要进行样本乱序操作。\n"
   ]
  },
  {
   "cell_type": "code",
   "execution_count": 64,
   "metadata": {},
   "outputs": [
    {
     "name": "stdout",
     "output_type": "stream",
     "text": [
      "before shuffle [ 1  2  3  4  5  6  7  8  9 10 11 12]\n",
      "after shuffle [ 7  2 11  3  8  6 12  1  4  5 10  9]\n"
     ]
    }
   ],
   "source": [
    "# 新建一个array\n",
    "a = np.array([1,2,3,4,5,6,7,8,9,10,11,12])\n",
    "print('before shuffle', a)\n",
    "np.random.shuffle(a)\n",
    "print('after shuffle', a)"
   ]
  },
  {
   "cell_type": "markdown",
   "metadata": {},
   "source": [
    "多次运行上面的代码，可以发现每次执行shuffle函数后的数字顺序均不同。 上面举的是一个1维数组乱序的案例，我们再观察下2维数组乱序后的效果。"
   ]
  },
  {
   "cell_type": "code",
   "execution_count": 65,
   "metadata": {},
   "outputs": [
    {
     "name": "stdout",
     "output_type": "stream",
     "text": [
      "before shuffle\n",
      " [[ 1  2]\n",
      " [ 3  4]\n",
      " [ 5  6]\n",
      " [ 7  8]\n",
      " [ 9 10]\n",
      " [11 12]]\n",
      "after shuffle\n",
      " [[ 1  2]\n",
      " [ 3  4]\n",
      " [ 5  6]\n",
      " [ 9 10]\n",
      " [11 12]\n",
      " [ 7  8]]\n"
     ]
    }
   ],
   "source": [
    "# 新建一个array\n",
    "a = np.array([1,2,3,4,5,6,7,8,9,10,11,12])\n",
    "a = a.reshape([6, 2])\n",
    "print('before shuffle\\n', a)\n",
    "np.random.shuffle(a)\n",
    "print('after shuffle\\n', a)"
   ]
  },
  {
   "cell_type": "markdown",
   "metadata": {},
   "source": [
    "观察运行结果可发现，数组的元素在第0维被随机打乱，但第1维的顺序保持不变。例如数字2仍然紧挨在数字1的后面，数字8仍然紧挨在数字7的后面，而第二维的[3, 4]并不排在[1, 2]的后面。将这部分实现SGD算法的代码集成到Network类中的train函数中，最终的完整代码如下。"
   ]
  },
  {
   "cell_type": "code",
   "execution_count": 66,
   "metadata": {},
   "outputs": [],
   "source": [
    "# 获取数据\n",
    "train_data, test_data = load_data()\n",
    "\n",
    "# 打乱样本顺序\n",
    "np.random.shuffle(train_data)\n",
    "\n",
    "# 将train_data分成多个mini_batch\n",
    "batch_size = 10\n",
    "n = len(train_data)\n",
    "mini_batches = [train_data[k:k+batch_size] for k in range(0, n, batch_size)]\n",
    "\n",
    "# 创建网络\n",
    "net = Network(13)\n",
    "\n",
    "# 依次使用每个mini_batch的数据\n",
    "for mini_batch in mini_batches:\n",
    "    x = mini_batch[:, :-1]\n",
    "    y = mini_batch[:, -1:]\n",
    "    loss = net.train(x, y, iterations=1)"
   ]
  },
  {
   "cell_type": "markdown",
   "metadata": {},
   "source": [
    "## 训练过程代码修改\n",
    "将每个随机抽取的mini-batch数据输入到模型中用于参数训练。训练过程的核心是两层循环：\n",
    "\n",
    "第一层循环，代表样本集合要被训练遍历几次，称为“epoch”，代码如下：\n",
    "`for epoch_id in range(num_epochs):`\n",
    "\n",
    "第二层循环，代表每次遍历时，样本集合被拆分成的多个批次，需要全部执行训练，称为“iter (iteration)”，代码如下：\n",
    "`for iter_id,mini_batch in emumerate(mini_batches):`\n",
    "\n",
    "在两层循环的内部是经典的四步训练流程：前向计算->计算损失->计算梯度->更新参数，这与大家之前所学是一致的，代码如下："
   ]
  },
  {
   "cell_type": "code",
   "execution_count": null,
   "metadata": {},
   "outputs": [],
   "source": [
    "x = mini_batch[:, :-1]\n",
    "y = mini_batch[:, -1:]\n",
    "a = self.forward(x)  #前向计算\n",
    "loss = self.loss(a, y)  #计算损失\n",
    "gradient_w, gradient_b = self.gradient(x, y)  #计算梯度\n",
    "self.update(gradient_w, gradient_b, eta)  #更新参数"
   ]
  },
  {
   "cell_type": "markdown",
   "metadata": {},
   "source": [
    "将两部分改写的代码集成到Network类中的train函数中，最终的实现如下。"
   ]
  },
  {
   "cell_type": "code",
   "execution_count": 68,
   "metadata": {},
   "outputs": [
    {
     "name": "stdout",
     "output_type": "stream",
     "text": [
      "Epoch   0 / iter   0, loss = 1.1717\n",
      "Epoch   0 / iter   1, loss = 1.1861\n",
      "Epoch   0 / iter   2, loss = 0.7858\n",
      "Epoch   0 / iter   3, loss = 0.7090\n",
      "Epoch   0 / iter   4, loss = 0.9849\n",
      "Epoch   0 / iter   5, loss = 0.9645\n",
      "Epoch   0 / iter   6, loss = 0.8700\n",
      "Epoch   0 / iter   7, loss = 1.0085\n",
      "Epoch   0 / iter   8, loss = 0.0471\n",
      "Epoch   1 / iter   0, loss = 0.9348\n",
      "Epoch   1 / iter   1, loss = 1.0426\n",
      "Epoch   1 / iter   2, loss = 0.7561\n",
      "Epoch   1 / iter   3, loss = 0.7675\n",
      "Epoch   1 / iter   4, loss = 0.8446\n",
      "Epoch   1 / iter   5, loss = 0.7855\n",
      "Epoch   1 / iter   6, loss = 0.5978\n",
      "Epoch   1 / iter   7, loss = 0.7198\n",
      "Epoch   1 / iter   8, loss = 1.3428\n",
      "Epoch   2 / iter   0, loss = 0.7804\n",
      "Epoch   2 / iter   1, loss = 0.9117\n",
      "Epoch   2 / iter   2, loss = 0.8047\n",
      "Epoch   2 / iter   3, loss = 0.7076\n",
      "Epoch   2 / iter   4, loss = 0.9111\n",
      "Epoch   2 / iter   5, loss = 0.3512\n",
      "Epoch   2 / iter   6, loss = 0.5853\n",
      "Epoch   2 / iter   7, loss = 0.6194\n",
      "Epoch   2 / iter   8, loss = 0.6099\n",
      "Epoch   3 / iter   0, loss = 0.9703\n",
      "Epoch   3 / iter   1, loss = 0.5198\n",
      "Epoch   3 / iter   2, loss = 0.6793\n",
      "Epoch   3 / iter   3, loss = 0.4822\n",
      "Epoch   3 / iter   4, loss = 0.7055\n",
      "Epoch   3 / iter   5, loss = 0.5838\n",
      "Epoch   3 / iter   6, loss = 0.6250\n",
      "Epoch   3 / iter   7, loss = 0.5145\n",
      "Epoch   3 / iter   8, loss = 0.4935\n",
      "Epoch   4 / iter   0, loss = 0.6416\n",
      "Epoch   4 / iter   1, loss = 0.6618\n",
      "Epoch   4 / iter   2, loss = 0.5401\n",
      "Epoch   4 / iter   3, loss = 0.4681\n",
      "Epoch   4 / iter   4, loss = 0.5977\n",
      "Epoch   4 / iter   5, loss = 0.6262\n",
      "Epoch   4 / iter   6, loss = 0.5316\n",
      "Epoch   4 / iter   7, loss = 0.5450\n",
      "Epoch   4 / iter   8, loss = 0.3893\n",
      "Epoch   5 / iter   0, loss = 0.6627\n",
      "Epoch   5 / iter   1, loss = 0.4100\n",
      "Epoch   5 / iter   2, loss = 0.5204\n",
      "Epoch   5 / iter   3, loss = 0.5021\n",
      "Epoch   5 / iter   4, loss = 0.5260\n",
      "Epoch   5 / iter   5, loss = 0.4465\n",
      "Epoch   5 / iter   6, loss = 0.5505\n",
      "Epoch   5 / iter   7, loss = 0.5976\n",
      "Epoch   5 / iter   8, loss = 0.3517\n",
      "Epoch   6 / iter   0, loss = 0.5373\n",
      "Epoch   6 / iter   1, loss = 0.6039\n",
      "Epoch   6 / iter   2, loss = 0.4832\n",
      "Epoch   6 / iter   3, loss = 0.4700\n",
      "Epoch   6 / iter   4, loss = 0.4360\n",
      "Epoch   6 / iter   5, loss = 0.5632\n",
      "Epoch   6 / iter   6, loss = 0.2755\n",
      "Epoch   6 / iter   7, loss = 0.5065\n",
      "Epoch   6 / iter   8, loss = 0.5661\n",
      "Epoch   7 / iter   0, loss = 0.4699\n",
      "Epoch   7 / iter   1, loss = 0.4633\n",
      "Epoch   7 / iter   2, loss = 0.3792\n",
      "Epoch   7 / iter   3, loss = 0.3732\n",
      "Epoch   7 / iter   4, loss = 0.5558\n",
      "Epoch   7 / iter   5, loss = 0.4314\n",
      "Epoch   7 / iter   6, loss = 0.4464\n",
      "Epoch   7 / iter   7, loss = 0.4810\n",
      "Epoch   7 / iter   8, loss = 0.3615\n",
      "Epoch   8 / iter   0, loss = 0.4981\n",
      "Epoch   8 / iter   1, loss = 0.4201\n",
      "Epoch   8 / iter   2, loss = 0.4254\n",
      "Epoch   8 / iter   3, loss = 0.3588\n",
      "Epoch   8 / iter   4, loss = 0.4379\n",
      "Epoch   8 / iter   5, loss = 0.3718\n",
      "Epoch   8 / iter   6, loss = 0.4880\n",
      "Epoch   8 / iter   7, loss = 0.3867\n",
      "Epoch   8 / iter   8, loss = 0.2075\n",
      "Epoch   9 / iter   0, loss = 0.4073\n",
      "Epoch   9 / iter   1, loss = 0.4420\n",
      "Epoch   9 / iter   2, loss = 0.3733\n",
      "Epoch   9 / iter   3, loss = 0.3710\n",
      "Epoch   9 / iter   4, loss = 0.4503\n",
      "Epoch   9 / iter   5, loss = 0.3053\n",
      "Epoch   9 / iter   6, loss = 0.4048\n",
      "Epoch   9 / iter   7, loss = 0.3894\n",
      "Epoch   9 / iter   8, loss = 0.1192\n",
      "Epoch  10 / iter   0, loss = 0.2717\n",
      "Epoch  10 / iter   1, loss = 0.4971\n",
      "Epoch  10 / iter   2, loss = 0.3593\n",
      "Epoch  10 / iter   3, loss = 0.2803\n",
      "Epoch  10 / iter   4, loss = 0.4145\n",
      "Epoch  10 / iter   5, loss = 0.3705\n",
      "Epoch  10 / iter   6, loss = 0.3814\n",
      "Epoch  10 / iter   7, loss = 0.3861\n",
      "Epoch  10 / iter   8, loss = 0.2860\n",
      "Epoch  11 / iter   0, loss = 0.2708\n",
      "Epoch  11 / iter   1, loss = 0.3362\n",
      "Epoch  11 / iter   2, loss = 0.2924\n",
      "Epoch  11 / iter   3, loss = 0.3765\n",
      "Epoch  11 / iter   4, loss = 0.4030\n",
      "Epoch  11 / iter   5, loss = 0.4424\n",
      "Epoch  11 / iter   6, loss = 0.2975\n",
      "Epoch  11 / iter   7, loss = 0.4155\n",
      "Epoch  11 / iter   8, loss = 0.0182\n",
      "Epoch  12 / iter   0, loss = 0.3330\n",
      "Epoch  12 / iter   1, loss = 0.3774\n",
      "Epoch  12 / iter   2, loss = 0.2460\n",
      "Epoch  12 / iter   3, loss = 0.3799\n",
      "Epoch  12 / iter   4, loss = 0.4261\n",
      "Epoch  12 / iter   5, loss = 0.3326\n",
      "Epoch  12 / iter   6, loss = 0.2855\n",
      "Epoch  12 / iter   7, loss = 0.3048\n",
      "Epoch  12 / iter   8, loss = 0.2743\n",
      "Epoch  13 / iter   0, loss = 0.2551\n",
      "Epoch  13 / iter   1, loss = 0.3184\n",
      "Epoch  13 / iter   2, loss = 0.3329\n",
      "Epoch  13 / iter   3, loss = 0.3912\n",
      "Epoch  13 / iter   4, loss = 0.3038\n",
      "Epoch  13 / iter   5, loss = 0.3076\n",
      "Epoch  13 / iter   6, loss = 0.3346\n",
      "Epoch  13 / iter   7, loss = 0.2871\n",
      "Epoch  13 / iter   8, loss = 0.5004\n",
      "Epoch  14 / iter   0, loss = 0.3229\n",
      "Epoch  14 / iter   1, loss = 0.3474\n",
      "Epoch  14 / iter   2, loss = 0.3337\n",
      "Epoch  14 / iter   3, loss = 0.2307\n",
      "Epoch  14 / iter   4, loss = 0.2860\n",
      "Epoch  14 / iter   5, loss = 0.2464\n",
      "Epoch  14 / iter   6, loss = 0.3391\n",
      "Epoch  14 / iter   7, loss = 0.3486\n",
      "Epoch  14 / iter   8, loss = 0.2960\n",
      "Epoch  15 / iter   0, loss = 0.3114\n",
      "Epoch  15 / iter   1, loss = 0.2681\n",
      "Epoch  15 / iter   2, loss = 0.2380\n",
      "Epoch  15 / iter   3, loss = 0.3209\n",
      "Epoch  15 / iter   4, loss = 0.2246\n",
      "Epoch  15 / iter   5, loss = 0.3402\n",
      "Epoch  15 / iter   6, loss = 0.3821\n",
      "Epoch  15 / iter   7, loss = 0.2377\n",
      "Epoch  15 / iter   8, loss = 0.1841\n",
      "Epoch  16 / iter   0, loss = 0.1839\n",
      "Epoch  16 / iter   1, loss = 0.1921\n",
      "Epoch  16 / iter   2, loss = 0.2761\n",
      "Epoch  16 / iter   3, loss = 0.1977\n",
      "Epoch  16 / iter   4, loss = 0.2931\n",
      "Epoch  16 / iter   5, loss = 0.3828\n",
      "Epoch  16 / iter   6, loss = 0.3697\n",
      "Epoch  16 / iter   7, loss = 0.3082\n",
      "Epoch  16 / iter   8, loss = 0.4377\n",
      "Epoch  17 / iter   0, loss = 0.2198\n",
      "Epoch  17 / iter   1, loss = 0.3019\n",
      "Epoch  17 / iter   2, loss = 0.2526\n",
      "Epoch  17 / iter   3, loss = 0.2607\n",
      "Epoch  17 / iter   4, loss = 0.2626\n",
      "Epoch  17 / iter   5, loss = 0.2541\n",
      "Epoch  17 / iter   6, loss = 0.2860\n",
      "Epoch  17 / iter   7, loss = 0.2959\n",
      "Epoch  17 / iter   8, loss = 0.2083\n",
      "Epoch  18 / iter   0, loss = 0.2702\n",
      "Epoch  18 / iter   1, loss = 0.2785\n",
      "Epoch  18 / iter   2, loss = 0.2414\n",
      "Epoch  18 / iter   3, loss = 0.2532\n",
      "Epoch  18 / iter   4, loss = 0.2620\n",
      "Epoch  18 / iter   5, loss = 0.2501\n",
      "Epoch  18 / iter   6, loss = 0.2166\n",
      "Epoch  18 / iter   7, loss = 0.2682\n",
      "Epoch  18 / iter   8, loss = 0.4821\n",
      "Epoch  19 / iter   0, loss = 0.1776\n",
      "Epoch  19 / iter   1, loss = 0.1967\n",
      "Epoch  19 / iter   2, loss = 0.2747\n",
      "Epoch  19 / iter   3, loss = 0.2287\n",
      "Epoch  19 / iter   4, loss = 0.3240\n",
      "Epoch  19 / iter   5, loss = 0.2537\n",
      "Epoch  19 / iter   6, loss = 0.2954\n",
      "Epoch  19 / iter   7, loss = 0.2227\n",
      "Epoch  19 / iter   8, loss = 0.2243\n",
      "Epoch  20 / iter   0, loss = 0.2093\n",
      "Epoch  20 / iter   1, loss = 0.2596\n",
      "Epoch  20 / iter   2, loss = 0.2429\n",
      "Epoch  20 / iter   3, loss = 0.2129\n",
      "Epoch  20 / iter   4, loss = 0.2623\n",
      "Epoch  20 / iter   5, loss = 0.1881\n",
      "Epoch  20 / iter   6, loss = 0.2883\n",
      "Epoch  20 / iter   7, loss = 0.2402\n",
      "Epoch  20 / iter   8, loss = 0.1577\n",
      "Epoch  21 / iter   0, loss = 0.1990\n",
      "Epoch  21 / iter   1, loss = 0.3073\n",
      "Epoch  21 / iter   2, loss = 0.2762\n",
      "Epoch  21 / iter   3, loss = 0.1963\n",
      "Epoch  21 / iter   4, loss = 0.2338\n",
      "Epoch  21 / iter   5, loss = 0.2003\n",
      "Epoch  21 / iter   6, loss = 0.1870\n",
      "Epoch  21 / iter   7, loss = 0.2477\n",
      "Epoch  21 / iter   8, loss = 0.0487\n",
      "Epoch  22 / iter   0, loss = 0.2845\n",
      "Epoch  22 / iter   1, loss = 0.1647\n",
      "Epoch  22 / iter   2, loss = 0.2853\n",
      "Epoch  22 / iter   3, loss = 0.2385\n",
      "Epoch  22 / iter   4, loss = 0.1857\n",
      "Epoch  22 / iter   5, loss = 0.2838\n",
      "Epoch  22 / iter   6, loss = 0.1493\n",
      "Epoch  22 / iter   7, loss = 0.1822\n",
      "Epoch  22 / iter   8, loss = 0.2587\n",
      "Epoch  23 / iter   0, loss = 0.1901\n",
      "Epoch  23 / iter   1, loss = 0.2375\n",
      "Epoch  23 / iter   2, loss = 0.2578\n",
      "Epoch  23 / iter   3, loss = 0.2416\n",
      "Epoch  23 / iter   4, loss = 0.1815\n",
      "Epoch  23 / iter   5, loss = 0.1893\n",
      "Epoch  23 / iter   6, loss = 0.2268\n",
      "Epoch  23 / iter   7, loss = 0.1861\n",
      "Epoch  23 / iter   8, loss = 0.2727\n",
      "Epoch  24 / iter   0, loss = 0.2867\n",
      "Epoch  24 / iter   1, loss = 0.2017\n",
      "Epoch  24 / iter   2, loss = 0.1617\n",
      "Epoch  24 / iter   3, loss = 0.1671\n",
      "Epoch  24 / iter   4, loss = 0.2113\n",
      "Epoch  24 / iter   5, loss = 0.1781\n",
      "Epoch  24 / iter   6, loss = 0.2735\n",
      "Epoch  24 / iter   7, loss = 0.1748\n",
      "Epoch  24 / iter   8, loss = 0.2203\n",
      "Epoch  25 / iter   0, loss = 0.2341\n",
      "Epoch  25 / iter   1, loss = 0.2655\n",
      "Epoch  25 / iter   2, loss = 0.1487\n",
      "Epoch  25 / iter   3, loss = 0.1827\n",
      "Epoch  25 / iter   4, loss = 0.2424\n",
      "Epoch  25 / iter   5, loss = 0.1874\n",
      "Epoch  25 / iter   6, loss = 0.1444\n",
      "Epoch  25 / iter   7, loss = 0.2022\n",
      "Epoch  25 / iter   8, loss = 0.1141\n",
      "Epoch  26 / iter   0, loss = 0.1871\n",
      "Epoch  26 / iter   1, loss = 0.2399\n",
      "Epoch  26 / iter   2, loss = 0.1604\n",
      "Epoch  26 / iter   3, loss = 0.1969\n",
      "Epoch  26 / iter   4, loss = 0.2193\n",
      "Epoch  26 / iter   5, loss = 0.1857\n",
      "Epoch  26 / iter   6, loss = 0.1920\n",
      "Epoch  26 / iter   7, loss = 0.1760\n",
      "Epoch  26 / iter   8, loss = 0.1744\n",
      "Epoch  27 / iter   0, loss = 0.1744\n",
      "Epoch  27 / iter   1, loss = 0.1758\n",
      "Epoch  27 / iter   2, loss = 0.1949\n",
      "Epoch  27 / iter   3, loss = 0.1743\n",
      "Epoch  27 / iter   4, loss = 0.1837\n",
      "Epoch  27 / iter   5, loss = 0.1554\n",
      "Epoch  27 / iter   6, loss = 0.2701\n",
      "Epoch  27 / iter   7, loss = 0.1965\n",
      "Epoch  27 / iter   8, loss = 0.0644\n",
      "Epoch  28 / iter   0, loss = 0.2083\n",
      "Epoch  28 / iter   1, loss = 0.1964\n",
      "Epoch  28 / iter   2, loss = 0.1622\n",
      "Epoch  28 / iter   3, loss = 0.1962\n",
      "Epoch  28 / iter   4, loss = 0.2000\n",
      "Epoch  28 / iter   5, loss = 0.1677\n",
      "Epoch  28 / iter   6, loss = 0.1865\n",
      "Epoch  28 / iter   7, loss = 0.1518\n",
      "Epoch  28 / iter   8, loss = 0.2132\n",
      "Epoch  29 / iter   0, loss = 0.1907\n",
      "Epoch  29 / iter   1, loss = 0.1592\n",
      "Epoch  29 / iter   2, loss = 0.1718\n",
      "Epoch  29 / iter   3, loss = 0.1537\n",
      "Epoch  29 / iter   4, loss = 0.1825\n",
      "Epoch  29 / iter   5, loss = 0.2123\n",
      "Epoch  29 / iter   6, loss = 0.1816\n",
      "Epoch  29 / iter   7, loss = 0.1748\n",
      "Epoch  29 / iter   8, loss = 0.2180\n",
      "Epoch  30 / iter   0, loss = 0.2198\n",
      "Epoch  30 / iter   1, loss = 0.1350\n",
      "Epoch  30 / iter   2, loss = 0.1439\n",
      "Epoch  30 / iter   3, loss = 0.1848\n",
      "Epoch  30 / iter   4, loss = 0.1390\n",
      "Epoch  30 / iter   5, loss = 0.1752\n",
      "Epoch  30 / iter   6, loss = 0.2011\n",
      "Epoch  30 / iter   7, loss = 0.1904\n",
      "Epoch  30 / iter   8, loss = 0.0876\n",
      "Epoch  31 / iter   0, loss = 0.1807\n",
      "Epoch  31 / iter   1, loss = 0.1688\n",
      "Epoch  31 / iter   2, loss = 0.1486\n",
      "Epoch  31 / iter   3, loss = 0.1739\n",
      "Epoch  31 / iter   4, loss = 0.1558\n",
      "Epoch  31 / iter   5, loss = 0.1953\n",
      "Epoch  31 / iter   6, loss = 0.1707\n",
      "Epoch  31 / iter   7, loss = 0.1512\n",
      "Epoch  31 / iter   8, loss = 0.1661\n",
      "Epoch  32 / iter   0, loss = 0.1758\n",
      "Epoch  32 / iter   1, loss = 0.1919\n",
      "Epoch  32 / iter   2, loss = 0.1563\n",
      "Epoch  32 / iter   3, loss = 0.1458\n",
      "Epoch  32 / iter   4, loss = 0.1499\n",
      "Epoch  32 / iter   5, loss = 0.1759\n",
      "Epoch  32 / iter   6, loss = 0.1252\n",
      "Epoch  32 / iter   7, loss = 0.1949\n",
      "Epoch  32 / iter   8, loss = 0.0904\n",
      "Epoch  33 / iter   0, loss = 0.1405\n",
      "Epoch  33 / iter   1, loss = 0.1742\n",
      "Epoch  33 / iter   2, loss = 0.1883\n",
      "Epoch  33 / iter   3, loss = 0.1917\n",
      "Epoch  33 / iter   4, loss = 0.1688\n",
      "Epoch  33 / iter   5, loss = 0.1581\n",
      "Epoch  33 / iter   6, loss = 0.1301\n",
      "Epoch  33 / iter   7, loss = 0.1291\n",
      "Epoch  33 / iter   8, loss = 0.1726\n",
      "Epoch  34 / iter   0, loss = 0.1628\n",
      "Epoch  34 / iter   1, loss = 0.1560\n",
      "Epoch  34 / iter   2, loss = 0.1612\n",
      "Epoch  34 / iter   3, loss = 0.1614\n",
      "Epoch  34 / iter   4, loss = 0.1585\n",
      "Epoch  34 / iter   5, loss = 0.1742\n",
      "Epoch  34 / iter   6, loss = 0.1600\n",
      "Epoch  34 / iter   7, loss = 0.1212\n",
      "Epoch  34 / iter   8, loss = 0.0725\n",
      "Epoch  35 / iter   0, loss = 0.1448\n",
      "Epoch  35 / iter   1, loss = 0.1325\n",
      "Epoch  35 / iter   2, loss = 0.1078\n",
      "Epoch  35 / iter   3, loss = 0.1479\n",
      "Epoch  35 / iter   4, loss = 0.1895\n",
      "Epoch  35 / iter   5, loss = 0.1518\n",
      "Epoch  35 / iter   6, loss = 0.1775\n",
      "Epoch  35 / iter   7, loss = 0.1660\n",
      "Epoch  35 / iter   8, loss = 0.0698\n",
      "Epoch  36 / iter   0, loss = 0.1130\n",
      "Epoch  36 / iter   1, loss = 0.1657\n",
      "Epoch  36 / iter   2, loss = 0.1387\n",
      "Epoch  36 / iter   3, loss = 0.1628\n",
      "Epoch  36 / iter   4, loss = 0.1175\n",
      "Epoch  36 / iter   5, loss = 0.1660\n",
      "Epoch  36 / iter   6, loss = 0.1445\n",
      "Epoch  36 / iter   7, loss = 0.1645\n",
      "Epoch  36 / iter   8, loss = 0.3221\n",
      "Epoch  37 / iter   0, loss = 0.1053\n",
      "Epoch  37 / iter   1, loss = 0.1607\n",
      "Epoch  37 / iter   2, loss = 0.1682\n",
      "Epoch  37 / iter   3, loss = 0.1448\n",
      "Epoch  37 / iter   4, loss = 0.1311\n",
      "Epoch  37 / iter   5, loss = 0.1478\n",
      "Epoch  37 / iter   6, loss = 0.1801\n",
      "Epoch  37 / iter   7, loss = 0.1032\n",
      "Epoch  37 / iter   8, loss = 0.2002\n",
      "Epoch  38 / iter   0, loss = 0.1324\n",
      "Epoch  38 / iter   1, loss = 0.1254\n",
      "Epoch  38 / iter   2, loss = 0.2199\n",
      "Epoch  38 / iter   3, loss = 0.1795\n",
      "Epoch  38 / iter   4, loss = 0.1223\n",
      "Epoch  38 / iter   5, loss = 0.1008\n",
      "Epoch  38 / iter   6, loss = 0.1120\n",
      "Epoch  38 / iter   7, loss = 0.1376\n",
      "Epoch  38 / iter   8, loss = 0.0713\n",
      "Epoch  39 / iter   0, loss = 0.1428\n",
      "Epoch  39 / iter   1, loss = 0.1451\n",
      "Epoch  39 / iter   2, loss = 0.1096\n",
      "Epoch  39 / iter   3, loss = 0.1186\n",
      "Epoch  39 / iter   4, loss = 0.1738\n",
      "Epoch  39 / iter   5, loss = 0.1048\n",
      "Epoch  39 / iter   6, loss = 0.1466\n",
      "Epoch  39 / iter   7, loss = 0.1482\n",
      "Epoch  39 / iter   8, loss = 0.1798\n"
     ]
    },
    {
     "name": "stdout",
     "output_type": "stream",
     "text": [
      "Epoch  40 / iter   0, loss = 0.1374\n",
      "Epoch  40 / iter   1, loss = 0.1643\n",
      "Epoch  40 / iter   2, loss = 0.1168\n",
      "Epoch  40 / iter   3, loss = 0.1384\n",
      "Epoch  40 / iter   4, loss = 0.0913\n",
      "Epoch  40 / iter   5, loss = 0.1814\n",
      "Epoch  40 / iter   6, loss = 0.1157\n",
      "Epoch  40 / iter   7, loss = 0.1272\n",
      "Epoch  40 / iter   8, loss = 0.0458\n",
      "Epoch  41 / iter   0, loss = 0.1056\n",
      "Epoch  41 / iter   1, loss = 0.1545\n",
      "Epoch  41 / iter   2, loss = 0.1080\n",
      "Epoch  41 / iter   3, loss = 0.1118\n",
      "Epoch  41 / iter   4, loss = 0.1462\n",
      "Epoch  41 / iter   5, loss = 0.1590\n",
      "Epoch  41 / iter   6, loss = 0.1412\n",
      "Epoch  41 / iter   7, loss = 0.1187\n",
      "Epoch  41 / iter   8, loss = 0.1468\n",
      "Epoch  42 / iter   0, loss = 0.1463\n",
      "Epoch  42 / iter   1, loss = 0.1510\n",
      "Epoch  42 / iter   2, loss = 0.1168\n",
      "Epoch  42 / iter   3, loss = 0.1195\n",
      "Epoch  42 / iter   4, loss = 0.1294\n",
      "Epoch  42 / iter   5, loss = 0.1280\n",
      "Epoch  42 / iter   6, loss = 0.1575\n",
      "Epoch  42 / iter   7, loss = 0.0852\n",
      "Epoch  42 / iter   8, loss = 0.0233\n",
      "Epoch  43 / iter   0, loss = 0.1201\n",
      "Epoch  43 / iter   1, loss = 0.1201\n",
      "Epoch  43 / iter   2, loss = 0.1140\n",
      "Epoch  43 / iter   3, loss = 0.0743\n",
      "Epoch  43 / iter   4, loss = 0.1676\n",
      "Epoch  43 / iter   5, loss = 0.1335\n",
      "Epoch  43 / iter   6, loss = 0.1329\n",
      "Epoch  43 / iter   7, loss = 0.1319\n",
      "Epoch  43 / iter   8, loss = 0.1809\n",
      "Epoch  44 / iter   0, loss = 0.1297\n",
      "Epoch  44 / iter   1, loss = 0.1510\n",
      "Epoch  44 / iter   2, loss = 0.1008\n",
      "Epoch  44 / iter   3, loss = 0.1042\n",
      "Epoch  44 / iter   4, loss = 0.0957\n",
      "Epoch  44 / iter   5, loss = 0.1151\n",
      "Epoch  44 / iter   6, loss = 0.1218\n",
      "Epoch  44 / iter   7, loss = 0.1474\n",
      "Epoch  44 / iter   8, loss = 0.2147\n",
      "Epoch  45 / iter   0, loss = 0.1120\n",
      "Epoch  45 / iter   1, loss = 0.1236\n",
      "Epoch  45 / iter   2, loss = 0.1133\n",
      "Epoch  45 / iter   3, loss = 0.1125\n",
      "Epoch  45 / iter   4, loss = 0.0885\n",
      "Epoch  45 / iter   5, loss = 0.1383\n",
      "Epoch  45 / iter   6, loss = 0.1345\n",
      "Epoch  45 / iter   7, loss = 0.1215\n",
      "Epoch  45 / iter   8, loss = 0.2011\n",
      "Epoch  46 / iter   0, loss = 0.1510\n",
      "Epoch  46 / iter   1, loss = 0.1019\n",
      "Epoch  46 / iter   2, loss = 0.0938\n",
      "Epoch  46 / iter   3, loss = 0.1523\n",
      "Epoch  46 / iter   4, loss = 0.1307\n",
      "Epoch  46 / iter   5, loss = 0.1008\n",
      "Epoch  46 / iter   6, loss = 0.1022\n",
      "Epoch  46 / iter   7, loss = 0.0980\n",
      "Epoch  46 / iter   8, loss = 0.1838\n",
      "Epoch  47 / iter   0, loss = 0.1296\n",
      "Epoch  47 / iter   1, loss = 0.0999\n",
      "Epoch  47 / iter   2, loss = 0.1393\n",
      "Epoch  47 / iter   3, loss = 0.1047\n",
      "Epoch  47 / iter   4, loss = 0.1295\n",
      "Epoch  47 / iter   5, loss = 0.1024\n",
      "Epoch  47 / iter   6, loss = 0.1158\n",
      "Epoch  47 / iter   7, loss = 0.1003\n",
      "Epoch  47 / iter   8, loss = 0.1500\n",
      "Epoch  48 / iter   0, loss = 0.1078\n",
      "Epoch  48 / iter   1, loss = 0.1336\n",
      "Epoch  48 / iter   2, loss = 0.1100\n",
      "Epoch  48 / iter   3, loss = 0.1121\n",
      "Epoch  48 / iter   4, loss = 0.1099\n",
      "Epoch  48 / iter   5, loss = 0.1213\n",
      "Epoch  48 / iter   6, loss = 0.0878\n",
      "Epoch  48 / iter   7, loss = 0.1037\n",
      "Epoch  48 / iter   8, loss = 0.1875\n",
      "Epoch  49 / iter   0, loss = 0.0913\n",
      "Epoch  49 / iter   1, loss = 0.0984\n",
      "Epoch  49 / iter   2, loss = 0.1568\n",
      "Epoch  49 / iter   3, loss = 0.0877\n",
      "Epoch  49 / iter   4, loss = 0.0782\n",
      "Epoch  49 / iter   5, loss = 0.0986\n",
      "Epoch  49 / iter   6, loss = 0.1036\n",
      "Epoch  49 / iter   7, loss = 0.1509\n",
      "Epoch  49 / iter   8, loss = 0.1640\n",
      "Epoch  50 / iter   0, loss = 0.0989\n",
      "Epoch  50 / iter   1, loss = 0.1137\n",
      "Epoch  50 / iter   2, loss = 0.1177\n",
      "Epoch  50 / iter   3, loss = 0.0869\n",
      "Epoch  50 / iter   4, loss = 0.0932\n",
      "Epoch  50 / iter   5, loss = 0.1272\n",
      "Epoch  50 / iter   6, loss = 0.0970\n",
      "Epoch  50 / iter   7, loss = 0.1255\n",
      "Epoch  50 / iter   8, loss = 0.0418\n",
      "Epoch  51 / iter   0, loss = 0.1226\n",
      "Epoch  51 / iter   1, loss = 0.1157\n",
      "Epoch  51 / iter   2, loss = 0.0890\n",
      "Epoch  51 / iter   3, loss = 0.1253\n",
      "Epoch  51 / iter   4, loss = 0.1028\n",
      "Epoch  51 / iter   5, loss = 0.0896\n",
      "Epoch  51 / iter   6, loss = 0.0973\n",
      "Epoch  51 / iter   7, loss = 0.0880\n",
      "Epoch  51 / iter   8, loss = 0.1342\n",
      "Epoch  52 / iter   0, loss = 0.1087\n",
      "Epoch  52 / iter   1, loss = 0.1387\n",
      "Epoch  52 / iter   2, loss = 0.1004\n",
      "Epoch  52 / iter   3, loss = 0.1153\n",
      "Epoch  52 / iter   4, loss = 0.0820\n",
      "Epoch  52 / iter   5, loss = 0.0960\n",
      "Epoch  52 / iter   6, loss = 0.0902\n",
      "Epoch  52 / iter   7, loss = 0.0889\n",
      "Epoch  52 / iter   8, loss = 0.2027\n",
      "Epoch  53 / iter   0, loss = 0.1429\n",
      "Epoch  53 / iter   1, loss = 0.0965\n",
      "Epoch  53 / iter   2, loss = 0.1025\n",
      "Epoch  53 / iter   3, loss = 0.0963\n",
      "Epoch  53 / iter   4, loss = 0.0952\n",
      "Epoch  53 / iter   5, loss = 0.0871\n",
      "Epoch  53 / iter   6, loss = 0.0681\n",
      "Epoch  53 / iter   7, loss = 0.1112\n",
      "Epoch  53 / iter   8, loss = 0.1673\n",
      "Epoch  54 / iter   0, loss = 0.1263\n",
      "Epoch  54 / iter   1, loss = 0.0836\n",
      "Epoch  54 / iter   2, loss = 0.1115\n",
      "Epoch  54 / iter   3, loss = 0.0767\n",
      "Epoch  54 / iter   4, loss = 0.0947\n",
      "Epoch  54 / iter   5, loss = 0.1077\n",
      "Epoch  54 / iter   6, loss = 0.0887\n",
      "Epoch  54 / iter   7, loss = 0.0992\n",
      "Epoch  54 / iter   8, loss = 0.0408\n",
      "Epoch  55 / iter   0, loss = 0.1111\n",
      "Epoch  55 / iter   1, loss = 0.0847\n",
      "Epoch  55 / iter   2, loss = 0.0655\n",
      "Epoch  55 / iter   3, loss = 0.0845\n",
      "Epoch  55 / iter   4, loss = 0.1082\n",
      "Epoch  55 / iter   5, loss = 0.1078\n",
      "Epoch  55 / iter   6, loss = 0.1138\n",
      "Epoch  55 / iter   7, loss = 0.0882\n",
      "Epoch  55 / iter   8, loss = 0.1083\n",
      "Epoch  56 / iter   0, loss = 0.0978\n",
      "Epoch  56 / iter   1, loss = 0.1164\n",
      "Epoch  56 / iter   2, loss = 0.0803\n",
      "Epoch  56 / iter   3, loss = 0.0951\n",
      "Epoch  56 / iter   4, loss = 0.1159\n",
      "Epoch  56 / iter   5, loss = 0.0792\n",
      "Epoch  56 / iter   6, loss = 0.0957\n",
      "Epoch  56 / iter   7, loss = 0.0727\n",
      "Epoch  56 / iter   8, loss = 0.0841\n",
      "Epoch  57 / iter   0, loss = 0.0862\n",
      "Epoch  57 / iter   1, loss = 0.0945\n",
      "Epoch  57 / iter   2, loss = 0.1075\n",
      "Epoch  57 / iter   3, loss = 0.0803\n",
      "Epoch  57 / iter   4, loss = 0.0802\n",
      "Epoch  57 / iter   5, loss = 0.1090\n",
      "Epoch  57 / iter   6, loss = 0.1008\n",
      "Epoch  57 / iter   7, loss = 0.0801\n",
      "Epoch  57 / iter   8, loss = 0.0562\n",
      "Epoch  58 / iter   0, loss = 0.0931\n",
      "Epoch  58 / iter   1, loss = 0.0873\n",
      "Epoch  58 / iter   2, loss = 0.0951\n",
      "Epoch  58 / iter   3, loss = 0.1020\n",
      "Epoch  58 / iter   4, loss = 0.1015\n",
      "Epoch  58 / iter   5, loss = 0.0829\n",
      "Epoch  58 / iter   6, loss = 0.0748\n",
      "Epoch  58 / iter   7, loss = 0.0790\n",
      "Epoch  58 / iter   8, loss = 0.1584\n",
      "Epoch  59 / iter   0, loss = 0.0898\n",
      "Epoch  59 / iter   1, loss = 0.1166\n",
      "Epoch  59 / iter   2, loss = 0.0809\n",
      "Epoch  59 / iter   3, loss = 0.0658\n",
      "Epoch  59 / iter   4, loss = 0.0639\n",
      "Epoch  59 / iter   5, loss = 0.0899\n",
      "Epoch  59 / iter   6, loss = 0.1217\n",
      "Epoch  59 / iter   7, loss = 0.0872\n",
      "Epoch  59 / iter   8, loss = 0.0420\n"
     ]
    },
    {
     "data": {
      "image/png": "[encoded data removed]",
      "text/plain": [
       "<Figure size 432x288 with 1 Axes>"
      ]
     },
     "metadata": {
      "needs_background": "light"
     },
     "output_type": "display_data"
    }
   ],
   "source": [
    "import numpy as np\n",
    "\n",
    "class Network(object):\n",
    "    def __init__(self, num_of_weights):\n",
    "        # 随机产生w的初始值\n",
    "        # 为了保持程序每次运行结果的一致性，此处设置固定的随机数种子\n",
    "        #np.random.seed(0)\n",
    "        self.w = np.random.randn(num_of_weights, 1)\n",
    "        self.b = 0.\n",
    "        \n",
    "    def forward(self, x):\n",
    "        z = np.dot(x, self.w) + self.b\n",
    "        return z\n",
    "    \n",
    "    def loss(self, z, y):\n",
    "        error = z - y\n",
    "        num_samples = error.shape[0]\n",
    "        cost = error * error\n",
    "        cost = np.sum(cost) / num_samples\n",
    "        return cost\n",
    "    \n",
    "    def gradient(self, x, y):\n",
    "        z = self.forward(x)\n",
    "        N = x.shape[0]\n",
    "        gradient_w = 1. / N * np.sum((z-y) * x, axis=0)\n",
    "        gradient_w = gradient_w[:, np.newaxis]\n",
    "        gradient_b = 1. / N * np.sum(z-y)\n",
    "        return gradient_w, gradient_b\n",
    "    \n",
    "    def update(self, gradient_w, gradient_b, eta = 0.01):\n",
    "        self.w = self.w - eta * gradient_w\n",
    "        self.b = self.b - eta * gradient_b\n",
    "            \n",
    "                \n",
    "    def train(self, training_data, num_epochs, batch_size=10, eta=0.01):\n",
    "        n = len(training_data)\n",
    "        losses = []\n",
    "        for epoch_id in range(num_epochs):\n",
    "            # 在每轮迭代开始之前，将训练数据的顺序随机打乱\n",
    "            # 然后再按每次取batch_size条数据的方式取出\n",
    "            np.random.shuffle(training_data)\n",
    "            # 将训练数据进行拆分，每个mini_batch包含batch_size条的数据\n",
    "            mini_batches = [training_data[k:k+batch_size] for k in range(0, n, batch_size)]\n",
    "            for iter_id, mini_batch in enumerate(mini_batches):\n",
    "                #print(self.w.shape)\n",
    "                #print(self.b)\n",
    "                x = mini_batch[:, :-1]\n",
    "                y = mini_batch[:, -1:]\n",
    "                a = self.forward(x)\n",
    "                loss = self.loss(a, y)\n",
    "                gradient_w, gradient_b = self.gradient(x, y)\n",
    "                self.update(gradient_w, gradient_b, eta)\n",
    "                losses.append(loss)\n",
    "                print('Epoch {:3d} / iter {:3d}, loss = {:.4f}'.\n",
    "                                 format(epoch_id, iter_id, loss))\n",
    "        \n",
    "        return losses\n",
    "\n",
    "# 获取数据\n",
    "train_data, test_data = load_data()\n",
    "\n",
    "# 创建网络\n",
    "net = Network(13)\n",
    "# 启动训练\n",
    "losses = net.train(train_data, num_epochs=60, batch_size=50, eta=0.05)\n",
    "\n",
    "# 画出损失函数的变化趋势\n",
    "plot_x = np.arange(len(losses))\n",
    "plot_y = np.array(losses)\n",
    "plt.plot(plot_x, plot_y)\n",
    "plt.show()"
   ]
  },
  {
   "cell_type": "markdown",
   "metadata": {},
   "source": [
    "观察上述Loss的变化，随机梯度下降加快了训练过程，但由于每次仅基于少量样本更新参数和计算损失，所以损失下降曲线会出现震荡。\n",
    "\n",
    "说明：\n",
    "由于房价预测的数据量过少，所以难以感受到随机梯度下降带来的性能提升。\n",
    "\n",
    "# 总结\n",
    "本节我们详细介绍了如何使用Numpy实现梯度下降算法，构建并训练了一个简单的线性模型实现波士顿房价预测，可以总结出，使用神经网络建模房价预测有三个要点：\n",
    "\n",
    "- 构建网络，初始化参数www和bbb，定义预测和损失函数的计算方法。\n",
    "- 随机选择初始点，建立梯度的计算方法和参数更新方式。\n",
    "- 从总的数据集中抽取部分数据作为一个mini_batch，计算梯度并更新参数，不断迭代直到损失函数几乎不再下降。\n",
    "\n",
    "\n",
    "总共是一个循环往复的四步：\n",
    "- 前向计算拿到我们预测的输出\n",
    "- 通过输出与真实的y值，计算出Loss\n",
    "- 通过前两步计算梯度\n",
    "- 通过梯度，更新参数值"
   ]
  },
  {
   "cell_type": "code",
   "execution_count": null,
   "metadata": {},
   "outputs": [],
   "source": []
  }
 ],
 "metadata": {
  "kernelspec": {
   "display_name": "Python 3",
   "language": "python",
   "name": "python3"
  },
  "language_info": {
   "codemirror_mode": {
    "name": "ipython",
    "version": 3
   },
   "file_extension": ".py",
   "mimetype": "text/x-python",
   "name": "python",
   "nbconvert_exporter": "python",
   "pygments_lexer": "ipython3",
   "version": "3.7.0"
  },
  "toc": {
   "base_numbering": 1,
   "nav_menu": {},
   "number_sections": true,
   "sideBar": true,
   "skip_h1_title": false,
   "title_cell": "Table of Contents",
   "title_sidebar": "Contents",
   "toc_cell": false,
   "toc_position": {},
   "toc_section_display": true,
   "toc_window_display": true
  }
 },
 "nbformat": 4,
 "nbformat_minor": 2
}
